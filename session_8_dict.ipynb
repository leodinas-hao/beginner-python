{
 "cells": [
  {
   "cell_type": "markdown",
   "metadata": {},
   "source": [
    "# Manage data with Python dictionaries\n",
    "\n",
    "## What will I learn?\n",
    "\n",
    "- Identify when to use a dictionary.\n",
    "- Create and modify data inside a dictionary.\n",
    "- Use dictionary methods to access dictionary data.\n",
    "\n",
    "## What is the main objective?\n",
    "\n",
    "Use a dictionary structure within your app to store data in a format that makes it easy to look up values."
   ]
  },
  {
   "cell_type": "markdown",
   "metadata": {},
   "source": [
    "# Python `dict`\n",
    "\n",
    "> Imagine that we want to store information about the moons of Earth and the moons of Jupiter.\n",
    "\n",
    "```py\n",
    "# Duplicated variables with different prefixes\n",
    "earth_name = 'Earth'\n",
    "earth_moons = 1\n",
    "\n",
    "jupiter_name = 'Jupiter'\n",
    "jupiter_moons = 79\n",
    "```\n",
    "\n",
    "simple data type & multiple variables **vs.** dictionary\n",
    "\n",
    "## Create a dictionary\n",
    "\n",
    "Python uses curly braces `{ }` and the colon `:` to denote a dictionary. You can either create an empty dictionary and add values later, or populate it at creation time\n",
    "\n",
    "- Keys need to be quoted i.e. 'name', 'moons'\n",
    "- Keys are case sensitive\n",
    "- Unlike regular variables, key names don't need to follow standard naming rules for Python\n",
    "\n",
    "```py\n",
    "planet = {\n",
    "  'name': 'Earth',\n",
    "  'moons': 1\n",
    "}\n",
    "```\n",
    "\n",
    "## Read dictionary values\n",
    "\n",
    "Using `get()`\n",
    "```py\n",
    "print(planet.get('name'))\n",
    "# Earth\n",
    "```\n",
    "\n",
    "Alternatively, using `[]`\n",
    "```py\n",
    "print(planet['name'])\n",
    "# Earth\n",
    "```"
   ]
  },
  {
   "cell_type": "code",
   "execution_count": 4,
   "metadata": {},
   "outputs": [
    {
     "ename": "KeyError",
     "evalue": "'wibble'",
     "output_type": "error",
     "traceback": [
      "\u001b[0;31m---------------------------------------------------------------------------\u001b[0m",
      "\u001b[0;31mKeyError\u001b[0m                                  Traceback (most recent call last)",
      "Cell \u001b[0;32mIn[4], line 10\u001b[0m\n\u001b[1;32m      4\u001b[0m planet \u001b[38;5;241m=\u001b[39m {\n\u001b[1;32m      5\u001b[0m   \u001b[38;5;124m'\u001b[39m\u001b[38;5;124mname\u001b[39m\u001b[38;5;124m'\u001b[39m: \u001b[38;5;124m'\u001b[39m\u001b[38;5;124mEarth\u001b[39m\u001b[38;5;124m'\u001b[39m,\n\u001b[1;32m      6\u001b[0m   \u001b[38;5;124m'\u001b[39m\u001b[38;5;124mmoons\u001b[39m\u001b[38;5;124m'\u001b[39m: \u001b[38;5;241m1\u001b[39m\n\u001b[1;32m      7\u001b[0m }\n\u001b[1;32m      9\u001b[0m wibble \u001b[38;5;241m=\u001b[39m planet\u001b[38;5;241m.\u001b[39mget(\u001b[38;5;124m'\u001b[39m\u001b[38;5;124mwibble\u001b[39m\u001b[38;5;124m'\u001b[39m) \u001b[38;5;66;03m# Returns None\u001b[39;00m\n\u001b[0;32m---> 10\u001b[0m wibble \u001b[38;5;241m=\u001b[39m \u001b[43mplanet\u001b[49m\u001b[43m[\u001b[49m\u001b[38;5;124;43m'\u001b[39;49m\u001b[38;5;124;43mwibble\u001b[39;49m\u001b[38;5;124;43m'\u001b[39;49m\u001b[43m]\u001b[49m \u001b[38;5;66;03m# Throws KeyError\u001b[39;00m\n",
      "\u001b[0;31mKeyError\u001b[0m: 'wibble'"
     ]
    }
   ],
   "source": [
    "# `get()` vs `[]`\n",
    "# KeyError\n",
    "\n",
    "planet = {\n",
    "  'name': 'Earth',\n",
    "  'moons': 1\n",
    "}\n",
    "\n",
    "wibble = planet.get('wibble') # Returns None\n",
    "wibble = planet['wibble'] # Throws KeyError"
   ]
  },
  {
   "cell_type": "code",
   "execution_count": 6,
   "metadata": {},
   "outputs": [],
   "source": [
    "# Modify dictionary values\n",
    "\n",
    "# `update()`\n",
    "planet.update({'name': 'Makemake'})\n",
    "# no output\n",
    "\n",
    "# `=` to assign new value\n",
    "planet['name'] = 'Makemake'\n",
    "# no output"
   ]
  },
  {
   "cell_type": "code",
   "execution_count": 7,
   "metadata": {},
   "outputs": [],
   "source": [
    "# using `update()`\n",
    "planet.update({\n",
    "  'name': 'Jupiter',\n",
    "  'moons': 79\n",
    "})\n",
    "\n",
    "# using square brackets & `=`\n",
    "planet['name'] = 'Jupiter'\n",
    "planet['moons'] = 79"
   ]
  },
  {
   "cell_type": "code",
   "execution_count": 8,
   "metadata": {},
   "outputs": [
    {
     "name": "stdout",
     "output_type": "stream",
     "text": [
      "{'name': 'Jupiter', 'moons': 79, 'orbital period': 4333}\n"
     ]
    }
   ],
   "source": [
    "# add new key\n",
    "planet['orbital period'] = 4333\n",
    "print(planet)"
   ]
  },
  {
   "cell_type": "code",
   "execution_count": 9,
   "metadata": {},
   "outputs": [
    {
     "name": "stdout",
     "output_type": "stream",
     "text": [
      "{'name': 'Jupiter', 'moons': 79}\n"
     ]
    }
   ],
   "source": [
    "# remove key\n",
    "planet.pop('orbital period')\n",
    "print(planet)"
   ]
  },
  {
   "cell_type": "code",
   "execution_count": 10,
   "metadata": {},
   "outputs": [
    {
     "name": "stdout",
     "output_type": "stream",
     "text": [
      "{'name': 'Jupiter', 'moons': 79, 'diameter (km)': {'polar': 133709, 'equatorial': 142984}}\n",
      "Jupiter polar diameter: 133709\n"
     ]
    }
   ],
   "source": [
    "# complex data type\n",
    "# nested dict\n",
    "\n",
    "# Add address\n",
    "planet['diameter (km)'] = {\n",
    "  'polar': 133709,\n",
    "  'equatorial': 142984\n",
    "}\n",
    "\n",
    "print(planet)\n",
    "\n",
    "# to access the values of the nested dict\n",
    "print(f'{planet[\"name\"]} polar diameter: {planet[\"diameter (km)\"][\"polar\"]}')"
   ]
  },
  {
   "cell_type": "markdown",
   "metadata": {},
   "source": [
    "# Exercise: Create and modify a Python dictionary\n",
    "\n",
    "- create dictionary for one planet\n",
    "- display planet data\n",
    "- add circumference information"
   ]
  },
  {
   "cell_type": "code",
   "execution_count": 11,
   "metadata": {},
   "outputs": [
    {
     "name": "stdout",
     "output_type": "stream",
     "text": [
      "Mars has 2 moon(s)\n",
      "Mars has a polar circumference of 6752\n"
     ]
    }
   ],
   "source": [
    "# create a dictionary\n",
    "planet = {\n",
    "  'name': 'Mars',\n",
    "  'moons': 2\n",
    "}\n",
    "\n",
    "# print the dictionary\n",
    "print(f'{planet[\"name\"]} has {planet[\"moons\"]} moon(s)')\n",
    "\n",
    "# add complex value\n",
    "planet['circumference (km)'] = {\n",
    "  'polar': 6752,\n",
    "  'equatorial': 6792\n",
    "}\n",
    "print(f'{planet[\"name\"]} has a polar circumference of {planet[\"circumference (km)\"][\"polar\"]}')"
   ]
  },
  {
   "cell_type": "code",
   "execution_count": 12,
   "metadata": {},
   "outputs": [
    {
     "name": "stdout",
     "output_type": "stream",
     "text": [
      "october: 3.5cm\n",
      "november: 4.2cm\n",
      "december: 2.1cm\n"
     ]
    }
   ],
   "source": [
    "# Dynamic programming with dictionaries\n",
    "\n",
    "# why? data loaded from database/file, rather coding directly into Python\n",
    "\n",
    "\n",
    "# retrieve all keys & values\n",
    "rainfall = {\n",
    "  'october': 3.5,\n",
    "  'november': 4.2,\n",
    "  'december': 2.1\n",
    "}\n",
    "\n",
    "# using `keys()`\n",
    "for key in rainfall.keys():\n",
    "  print(f'{key}: {rainfall[key]}cm')"
   ]
  },
  {
   "cell_type": "code",
   "execution_count": 13,
   "metadata": {},
   "outputs": [
    {
     "name": "stdout",
     "output_type": "stream",
     "text": [
      "december: 3.1\n"
     ]
    }
   ],
   "source": [
    "# determine if a key exists\n",
    "\n",
    "if 'december' in rainfall:\n",
    "  rainfall['december'] = rainfall['december'] + 1\n",
    "else:\n",
    "  rainfall['december'] = 1\n",
    "\n",
    "# Because december exists, the value will be 3.1\n",
    "print(f'december: {rainfall[\"december\"]}')"
   ]
  },
  {
   "cell_type": "code",
   "execution_count": 14,
   "metadata": {},
   "outputs": [
    {
     "name": "stdout",
     "output_type": "stream",
     "text": [
      "There was 10.8cm in the last quarter.\n"
     ]
    }
   ],
   "source": [
    "# retrieve all values\n",
    "\n",
    "total_rainfall = 0\n",
    "\n",
    "# using `values()`\n",
    "for value in rainfall.values():\n",
    "  total_rainfall = total_rainfall + value\n",
    "\n",
    "print(f'There was {total_rainfall}cm in the last quarter.')"
   ]
  },
  {
   "cell_type": "markdown",
   "metadata": {},
   "source": [
    "# Exercise - Dynamic programming with dictionaries\n",
    "\n",
    "- creating a variable named planet_moons as a dictionary with the following key/values:\n",
    "```\n",
    "mercury: 0,\n",
    "venus: 0,\n",
    "earth: 1,\n",
    "mars: 2,\n",
    "jupiter: 79,\n",
    "saturn: 82,\n",
    "uranus: 27,\n",
    "neptune: 14,\n",
    "pluto: 5,\n",
    "haumea: 2,\n",
    "makemake: 1,\n",
    "eris: 1\n",
    "```\n",
    "- Obtain a list of moons and number of planets\n",
    "- Determine the average number of moons\n"
   ]
  },
  {
   "cell_type": "code",
   "execution_count": 15,
   "metadata": {},
   "outputs": [
    {
     "name": "stdout",
     "output_type": "stream",
     "text": [
      "dict_values([0, 0, 1, 2, 79, 82, 27, 14, 5, 2, 1, 1])\n",
      "Each planet has an average of 17.83 moons\n"
     ]
    }
   ],
   "source": [
    "planet_moons = {\n",
    "  'mercury': 0,\n",
    "  'venus': 0,\n",
    "  'earth': 1,\n",
    "  'mars': 2,\n",
    "  'jupiter': 79,\n",
    "  'saturn': 82,\n",
    "  'uranus': 27,\n",
    "  'neptune': 14,\n",
    "  'pluto': 5,\n",
    "  'haumea': 2,\n",
    "  'makemake': 1,\n",
    "  'eris': 1\n",
    "}\n",
    "\n",
    "# get all moon values into a list\n",
    "moons = planet_moons.values()\n",
    "print(moons)\n",
    "\n",
    "# get total number of planets\n",
    "total_planets = len(planet_moons.keys())\n",
    "\n",
    "# calculate average moon number\n",
    "total_moons = 0\n",
    "for moon in moons:\n",
    "  total_moons = total_moons + moon\n",
    "\n",
    "average = total_moons / total_planets\n",
    "\n",
    "print(f'Each planet has an average of {average:.2f} moons')"
   ]
  }
 ],
 "metadata": {
  "kernelspec": {
   "display_name": ".venv",
   "language": "python",
   "name": "python3"
  },
  "language_info": {
   "codemirror_mode": {
    "name": "ipython",
    "version": 3
   },
   "file_extension": ".py",
   "mimetype": "text/x-python",
   "name": "python",
   "nbconvert_exporter": "python",
   "pygments_lexer": "ipython3",
   "version": "3.8.18"
  }
 },
 "nbformat": 4,
 "nbformat_minor": 2
}
