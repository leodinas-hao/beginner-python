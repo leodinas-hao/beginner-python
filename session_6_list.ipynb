{
 "cells": [
  {
   "cell_type": "markdown",
   "metadata": {},
   "source": [
    "# Introduction to lists in Python\n",
    "\n",
    "## What will I learn?\n",
    "\n",
    "After completing this module, you'll be able to:\n",
    "\n",
    "- Identify when to use a list.\n",
    "- Create a list.\n",
    "- Access a particular item in a list by using indexes.\n",
    "- Push items to the end of a list.\n",
    "- Sort and slice a list.\n",
    "\n",
    "## What is the main objective?\n",
    "\n",
    "By the end of this module, you'll understand when to use a list structure and how it can help organize your data."
   ]
  },
  {
   "cell_type": "code",
   "execution_count": 1,
   "metadata": {},
   "outputs": [
    {
     "name": "stdout",
     "output_type": "stream",
     "text": [
      "The first planet is Mercury\n",
      "The second planet is Venus\n",
      "The third planet is Earth\n"
     ]
    }
   ],
   "source": [
    "# create a list\n",
    "# create a list by assigning a sequence of values to a variable. Each value is separated by a comma and surrounded by brackets ([])\n",
    "\n",
    "planets = [\"Mercury\", \"Venus\", \"Earth\", \"Mars\", \"Jupiter\", \"Saturn\", \"Uranus\", \"Neptune\"]\n",
    "\n",
    "# access the list items by index\n",
    "# access any item in a list by putting the index in brackets [] after the list variable's name. Indexes start from 0,\n",
    "\n",
    "print(\"The first planet is\", planets[0])\n",
    "print(\"The second planet is\", planets[1])\n",
    "print(\"The third planet is\", planets[2])"
   ]
  },
  {
   "cell_type": "code",
   "execution_count": 2,
   "metadata": {},
   "outputs": [
    {
     "name": "stdout",
     "output_type": "stream",
     "text": [
      "Mars is also known as Red Planet\n"
     ]
    }
   ],
   "source": [
    "# modify the values of the list\n",
    "\n",
    "planets[3] = \"Red Planet\"\n",
    "print(f\"Mars is also known as {planets[3]}\")"
   ]
  },
  {
   "cell_type": "code",
   "execution_count": 15,
   "metadata": {},
   "outputs": [
    {
     "name": "stdout",
     "output_type": "stream",
     "text": [
      "There are 8 planets in the solar system.\n"
     ]
    }
   ],
   "source": [
    "# get the length of a list: `len()`\n",
    "\n",
    "planets = [\"Mercury\", \"Venus\", \"Earth\", \"Mars\", \"Jupiter\", \"Saturn\", \"Uranus\", \"Neptune\"]\n",
    "number_of_planets = len(planets)\n",
    "print(f\"There are {number_of_planets} planets in the solar system.\")\n"
   ]
  },
  {
   "cell_type": "code",
   "execution_count": 17,
   "metadata": {},
   "outputs": [
    {
     "name": "stdout",
     "output_type": "stream",
     "text": [
      "There are actually 9 planets in the solar system.\n",
      "['Mercury', 'Venus', 'Earth', 'Mars', 'Jupiter', 'Saturn', 'Uranus', 'Neptune', 'Pluto']\n"
     ]
    }
   ],
   "source": [
    "# add items to a list: `append(value)`\n",
    "planets = [\"Mercury\", \"Venus\", \"Earth\", \"Mars\", \"Jupiter\", \"Saturn\", \"Uranus\", \"Neptune\"]\n",
    "\n",
    "# append()\n",
    "planets.append(\"Pluto\")\n",
    "\n",
    "number_of_planets = len(planets)\n",
    "print(f\"There are actually {number_of_planets} planets in the solar system.\")\n",
    "# print(planets)"
   ]
  },
  {
   "cell_type": "code",
   "execution_count": 18,
   "metadata": {},
   "outputs": [
    {
     "name": "stdout",
     "output_type": "stream",
     "text": [
      "No, there are definitely 8 planets in the solar system.\n",
      "['Mercury', 'Venus', 'Earth', 'Mars', 'Jupiter', 'Saturn', 'Uranus', 'Neptune']\n"
     ]
    }
   ],
   "source": [
    "# remove values from the list: `pop()`\n",
    "\n",
    "planets = [\"Mercury\", \"Venus\", \"Earth\", \"Mars\", \"Jupiter\", \"Saturn\", \"Uranus\", \"Neptune\", \"Pluto\"]\n",
    "\n",
    "# remove Pluto (last item)\n",
    "planets.pop()\n",
    "number_of_planets = len(planets)\n",
    "print(f\"No, there are definitely {number_of_planets} planets in the solar system.\")\n",
    "print(planets)"
   ]
  },
  {
   "cell_type": "code",
   "execution_count": 6,
   "metadata": {},
   "outputs": [
    {
     "name": "stdout",
     "output_type": "stream",
     "text": [
      "The last planet is Neptune\n",
      "The penultimate planet is Uranus\n"
     ]
    }
   ],
   "source": [
    "# use negative indexes\n",
    "\n",
    "# Indexes start at zero and increase. Negative indexes start at the end of the list and work backward\n",
    "\n",
    "planets = [\"Mercury\", \"Venus\", \"Earth\", \"Mars\", \"Jupiter\", \"Saturn\", \"Uranus\", \"Neptune\"]\n",
    "print(f\"The last planet is {planets[-1]}\")\n",
    "print(f\"The penultimate planet is {planets[-2]}\")"
   ]
  },
  {
   "cell_type": "code",
   "execution_count": 19,
   "metadata": {},
   "outputs": [
    {
     "name": "stdout",
     "output_type": "stream",
     "text": [
      "Jupiter is the 5 planet from the sun\n"
     ]
    }
   ],
   "source": [
    "# find a value in a list: `index(value)`\n",
    "\n",
    "planets = [\"Mercury\", \"Venus\", \"Earth\", \"Mars\", \"Jupiter\", \"Saturn\", \"Uranus\", \"Neptune\"]\n",
    "jupiter_index = planets.index(\"Jupiter\")\n",
    "\n",
    "# Because indexing starts with 0, you need to add 1 to display the proper number.\n",
    "print(f\"Jupiter is the {jupiter_index + 1} planet from the sun\")"
   ]
  },
  {
   "cell_type": "markdown",
   "metadata": {},
   "source": [
    "# Exercise: Use lists to store planet names\n",
    "\n",
    "## Add all planets to a list\n",
    "First, create a variable named planets. Add the eight planets (without Pluto) to the list. The planets are:\n",
    "\n",
    "- Mercury\n",
    "- Venus\n",
    "- Earth\n",
    "- Mars\n",
    "- Jupiter\n",
    "- Saturn\n",
    "- Uranus\n",
    "- Neptune\n",
    "\n",
    "Finish by using print to display the list of planets.\n",
    "\n",
    "## Display the number of planets\n",
    "\n",
    "## Add a planet to the list\n",
    "- add \"Pluto\""
   ]
  },
  {
   "cell_type": "code",
   "execution_count": 20,
   "metadata": {},
   "outputs": [
    {
     "name": "stdout",
     "output_type": "stream",
     "text": [
      "There are 8 planets\n",
      "Actually, there are 9 planets\n",
      "Pluto is the last planet\n"
     ]
    }
   ],
   "source": [
    "planets = [\"Mercury\", \"Venus\", \"Earth\", \"Mars\", \"Jupiter\", \"Saturn\", \"Uranus\", \"Neptune\"]\n",
    "\n",
    "# print(planets)\n",
    "\n",
    "print(f\"There are {len(planets)} planets\")\n",
    "\n",
    "# append\n",
    "planets.append(\"Pluto\")\n",
    "\n",
    "print(f\"Actually, there are {len(planets)} planets\")\n",
    "\n",
    "print(f\"{planets[-1]} is the last planet\")\n"
   ]
  },
  {
   "cell_type": "code",
   "execution_count": 9,
   "metadata": {},
   "outputs": [
    {
     "name": "stdout",
     "output_type": "stream",
     "text": [
      "On Earth, a double-decker bus weighs 124054 N\n",
      "On Mercury, a double-decker bus weighs 46892.412000000004 N\n"
     ]
    }
   ],
   "source": [
    "# work with numbers in lists\n",
    "\n",
    "# In this list, `gravity_on_planets[0]` is the gravity on Mercury (0.378 G), `gravity_on_planets[1]` is the gravity on Venus (0.907 G), and so on.\n",
    "gravity_on_planets = [0.378, 0.907, 1, 0.377, 2.36, 0.916, 0.889, 1.12]\n",
    "\n",
    "# On Earth, a double-decker bus weighs 124,054 Newtons (N). On Mercury, where the gravity is 0.378 G, the same bus weighs 124,054 Newtons multiplied by 0.378\n",
    "\n",
    "bus_weight = 124054 # in Newtons, on Earth\n",
    "\n",
    "print(f\"On Earth, a double-decker bus weighs {bus_weight} N\")\n",
    "print(f\"On Mercury, a double-decker bus weighs {bus_weight * gravity_on_planets[0]} N\")"
   ]
  },
  {
   "cell_type": "code",
   "execution_count": 10,
   "metadata": {},
   "outputs": [
    {
     "name": "stdout",
     "output_type": "stream",
     "text": [
      "On Earth, a double-decker bus weighs 12650 N\n",
      "The lightest a bus would be in the solar system is 4769.05 N\n",
      "The heaviest a bus would be in the solar system is 29854.0 N\n"
     ]
    }
   ],
   "source": [
    "# use `mins()` & `max()`\n",
    "# The `max()` function returns the largest number, and `min()` returns the smallest\n",
    "\n",
    "gravity_on_planets = [0.378, 0.907, 1, 0.377, 2.36, 0.916, 0.889, 1.12]\n",
    "bus_weight = 12650 # in Newtons, on Earth\n",
    "\n",
    "print(f\"On Earth, a double-decker bus weighs {bus_weight} N\")\n",
    "print(f\"The lightest a bus would be in the solar system is {bus_weight * min(gravity_on_planets)} N\")\n",
    "print(f\"The heaviest a bus would be in the solar system is {bus_weight * max(gravity_on_planets)} N\")"
   ]
  },
  {
   "cell_type": "code",
   "execution_count": 11,
   "metadata": {},
   "outputs": [
    {
     "name": "stdout",
     "output_type": "stream",
     "text": [
      "['Mercury', 'Venus']\n",
      "['Mars', 'Jupiter', 'Saturn', 'Uranus', 'Neptune']\n",
      "['Mars', 'Jupiter', 'Saturn', 'Uranus', 'Neptune']\n"
     ]
    }
   ],
   "source": [
    "# manipulate the list\n",
    "\n",
    "# slice lists\n",
    "# retrieve a portion of a list by using a slice. A slice uses brackets, but instead of a single item, it has the starting and ending indexes\n",
    "# slice doesn't modify the current list\n",
    "# a new list is created with slice that starts at the starting index and that ends before (and does not include) the ending index\n",
    "\n",
    "# use a slice to get items starting at 0 and ending at 2\n",
    "planets = [\"Mercury\", \"Venus\", \"Earth\", \"Mars\", \"Jupiter\", \"Saturn\", \"Uranus\", \"Neptune\"]\n",
    "planets_before_earth = planets[0:2]\n",
    "print(planets_before_earth)\n",
    "\n",
    "# start at the third and go to the eighth\n",
    "planets_after_earth = planets[3:8]\n",
    "print(planets_after_earth) \n",
    "\n",
    "# start at the third and go to the end\n",
    "planets_after_earth_2 = planets[3:]\n",
    "print(planets_after_earth_2) "
   ]
  },
  {
   "cell_type": "code",
   "execution_count": 21,
   "metadata": {},
   "outputs": [
    {
     "name": "stdout",
     "output_type": "stream",
     "text": [
      "The regular satellite moons of Jupiter are ['Metis', 'Adrastea', 'Amalthea', 'Thebe', 'Io', 'Europa', 'Ganymede', 'Callisto']\n"
     ]
    }
   ],
   "source": [
    "# join lists\n",
    "# To join two lists, use the other operator (+) with two lists to return a new list.\n",
    "\n",
    "# use the moons of Jupiter as an example\n",
    "amalthea_group = [\"Metis\", \"Adrastea\", \"Amalthea\", \"Thebe\"]\n",
    "galilean_moons = [\"Io\", \"Europa\", \"Ganymede\", \"Callisto\"]\n",
    "\n",
    "regular_satellite_moons = amalthea_group + galilean_moons\n",
    "print(f\"The regular satellite moons of Jupiter are {regular_satellite_moons}\")"
   ]
  },
  {
   "cell_type": "code",
   "execution_count": 13,
   "metadata": {},
   "outputs": [
    {
     "name": "stdout",
     "output_type": "stream",
     "text": [
      "The regular satellite moons of Jupiter are ['Adrastea', 'Amalthea', 'Callisto', 'Europa', 'Ganymede', 'Io', 'Metis', 'Thebe']\n"
     ]
    }
   ],
   "source": [
    "# sort lists\n",
    "# use the `sort()` method on the list. Python sorts a list of strings in alphabetical order and a list of numbers in numeric order\n",
    "\n",
    "amalthea_group = [\"Metis\", \"Adrastea\", \"Amalthea\", \"Thebe\"]\n",
    "galilean_moons = [\"Io\", \"Europa\", \"Ganymede\", \"Callisto\"]\n",
    "\n",
    "regular_satellite_moons = amalthea_group + galilean_moons\n",
    "# sort the list in alphabetical order\n",
    "regular_satellite_moons.sort()\n",
    "print(\"The regular satellite moons of Jupiter are\", regular_satellite_moons)"
   ]
  },
  {
   "cell_type": "markdown",
   "metadata": {},
   "source": [
    "# Exercise - Work with list data\n",
    "\n",
    "## Create the list of planets\n",
    "First, create a variable named planets. Add the eight planets (without Pluto) to the list. The planets are:\n",
    "\n",
    "- Mercury\n",
    "- Venus\n",
    "- Earth\n",
    "- Mars\n",
    "- Jupiter\n",
    "- Saturn\n",
    "- Uranus\n",
    "- Neptune\n",
    "\n",
    "## Prompt the user for the reference planet with `input()`\n",
    "\n",
    "## Find the location of the selected planet with `index(value)`\n",
    "\n",
    "## Display planets closer to the sun with slice\n",
    "\n",
    "## Display planets further with slice"
   ]
  },
  {
   "cell_type": "code",
   "execution_count": 22,
   "metadata": {},
   "outputs": [
    {
     "name": "stdout",
     "output_type": "stream",
     "text": [
      "Here are the planets closer than Earth\n",
      "['Mercury', 'Venus']\n",
      "Here are the planets further than Earth\n",
      "['Mars', 'Jupiter', 'Saturn', 'Uranus', 'Neptune']\n"
     ]
    }
   ],
   "source": [
    "planets = [\"Mercury\", \"Venus\", \"Earth\", \"Mars\", \"Jupiter\", \"Saturn\", \"Uranus\", \"Neptune\"]\n",
    "\n",
    "# take input from user\n",
    "user_planet = input(\"Please enter the name of the planet (with a capital letter to start)\")\n",
    "\n",
    "# get index\n",
    "planet_index = planets.index(user_planet)\n",
    "\n",
    "# display planets closer\n",
    "print(f\"Here are the planets closer than {user_planet}\")\n",
    "print(planets[0:planet_index])\n",
    "\n",
    "# display planets further\n",
    "print(f\"Here are the planets further than {user_planet}\")\n",
    "print(planets[planet_index + 1:])"
   ]
  }
 ],
 "metadata": {
  "kernelspec": {
   "display_name": ".venv",
   "language": "python",
   "name": "python3"
  },
  "language_info": {
   "codemirror_mode": {
    "name": "ipython",
    "version": 3
   },
   "file_extension": ".py",
   "mimetype": "text/x-python",
   "name": "python",
   "nbconvert_exporter": "python",
   "pygments_lexer": "ipython3",
   "version": "3.8.18"
  }
 },
 "nbformat": 4,
 "nbformat_minor": 2
}
