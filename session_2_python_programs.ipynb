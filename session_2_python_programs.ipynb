{
 "cells": [
  {
   "cell_type": "markdown",
   "metadata": {},
   "source": [
    "# Write your first Python programs\n",
    "\n",
    "# What will you learn?\n",
    "\n",
    "In this module, you'll learn to:\n",
    "\n",
    "- Use functions to manage input and output to the console\n",
    "- Create variables to store data\n",
    "- Distinguish between data types\n",
    "- Use type conversion to convert between data types\n",
    "\n",
    "# What is the main objective?\n",
    "\n",
    "Use basic programming elements to create your first Python programs.\n",
    "\n",
    "# Prerequisites\n",
    "\n",
    "- [Install Python](https://www.digitalocean.com/community/tutorials/install-python-windows-10)\n",
    "- [Install vscode](https://learn.microsoft.com/en-us/training/modules/python-install-vscode/4-exercise-install-visual-studio-code?ns-enrollment-type=learningpath&ns-enrollment-id=learn.python-partnership&pivots=windows)\n",
    "- [Install vscode Python extension](https://learn.microsoft.com/en-us/training/modules/python-install-vscode/5-exercise-install-python-extension?ns-enrollment-type=learningpath&ns-enrollment-id=learn.python-partnership&pivots=windows)"
   ]
  },
  {
   "cell_type": "markdown",
   "metadata": {},
   "source": [
    "# A Python program\n",
    "To create a program in Python, you need to store it in a file. The file should have the extension .py.\n",
    "\n",
    "The idea of a program is to do something or carry out a task. To have the program do something, you'll need to add the statements or instructions to perform the task. For example, an instruction could print some text or calculate something. An example program, named python.py, can look something like this:\n",
    "\n",
    "```py\n",
    "# program.py\n",
    "sum = 1 + 2\n",
    "print(sum)\n",
    "```\n",
    "\n",
    "# Run a program\n",
    "Assume you created a program that consists of multiple statements. You run it by launching the Python executable program in a console. A console is a command-line application that lets you interact with the operating system. To run a program, type the name of the Python executable program, followed by the name of your program. Here's an example of such an execution:\n",
    "\n",
    "```sh\n",
    "python3 program.py\n",
    "```"
   ]
  },
  {
   "cell_type": "code",
   "execution_count": 1,
   "metadata": {},
   "outputs": [
    {
     "name": "stdout",
     "output_type": "stream",
     "text": [
      "show this in the console\n"
     ]
    }
   ],
   "source": [
    "# the print() function\n",
    "\n",
    "print(\"show this in the console\")"
   ]
  },
  {
   "cell_type": "code",
   "execution_count": 2,
   "metadata": {},
   "outputs": [
    {
     "ename": "TypeError",
     "evalue": "'builtin_function_or_method' object is not subscriptable",
     "output_type": "error",
     "traceback": [
      "\u001b[0;31m---------------------------------------------------------------------------\u001b[0m",
      "\u001b[0;31mTypeError\u001b[0m                                 Traceback (most recent call last)",
      "Cell \u001b[0;32mIn[2], line 3\u001b[0m\n\u001b[1;32m      1\u001b[0m \u001b[38;5;66;03m# print error with square brackets\u001b[39;00m\n\u001b[0;32m----> 3\u001b[0m \u001b[38;5;28;43mprint\u001b[39;49m\u001b[43m[\u001b[49m\u001b[38;5;124;43m\"\u001b[39;49m\u001b[38;5;124;43mshow this in the console\u001b[39;49m\u001b[38;5;124;43m\"\u001b[39;49m\u001b[43m]\u001b[49m\n",
      "\u001b[0;31mTypeError\u001b[0m: 'builtin_function_or_method' object is not subscriptable"
     ]
    }
   ],
   "source": [
    "# print error with square brackets\n",
    "\n",
    "print[\"show this in the console\"]"
   ]
  },
  {
   "cell_type": "code",
   "execution_count": null,
   "metadata": {},
   "outputs": [
    {
     "name": "stdout",
     "output_type": "stream",
     "text": [
      "6\n"
     ]
    }
   ],
   "source": [
    "# variables\n",
    "\n",
    "sum = 1 + 2 # 3\n",
    "product = sum * 2\n",
    "print(product)"
   ]
  },
  {
   "cell_type": "markdown",
   "metadata": {},
   "source": [
    "# Data types\n",
    "\n",
    "| Type         | Description                      | Example(s)                  |\n",
    "| ------------ | -------------------------------- | --------------------------- |\n",
    "| Numeric type | Number, with or without decimals | int, float, complex, no = 3 |\n",
    "| Text type    | String of characters             | str = \"a literal string\"    |\n",
    "| Boolean type | Boolean                          | continue = True             |\n",
    "\n",
    "\n",
    "# Arithmetic operators\n",
    "\n",
    "| Type | Description                                                                            | Example |\n",
    "| ---- | -------------------------------------------------------------------------------------- | ------- |\n",
    "| +    | Addition operator that adds two values together                                        | 1 + 1   |\n",
    "| -    | Subtraction operator that removes the value of the right side from the left side       | 1 - 2   |\n",
    "| /    | Division operator that divides the left side as many times as the right side specifies | 10 / 2  |\n",
    "| *    | Multiplication operator                                                                | 2 * 2   |\n",
    "\n",
    "\n",
    "# Assignment operators\n",
    "\n",
    "| Operator | Example | Notes                                                                  |\n",
    "| -------- | ------- | ---------------------------------------------------------------------- |\n",
    "| =        | x = 2   | x now contains 2.                                                      |\n",
    "| +=       | x += 2  | x incremented by 2. If it contained 2 before, it now has a value of 4. |\n",
    "| -=       | x -= 2  | x decremented by 2. If it contained 2 before, it now has a value of 0. |\n",
    "| /=       | x /= 2  | x divided by 2. If it contained 2 before, it now has a value of 1.     |\n",
    "| *=       | x *= 2  | x multiplied by 2. If it contained 2 before, it now has a value of 4.  |"
   ]
  },
  {
   "cell_type": "code",
   "execution_count": null,
   "metadata": {},
   "outputs": [],
   "source": [
    "planets_in_solar_system = 8 # int, pluto used to be the 9th planet, but is too small\n",
    "distance_to_alpha_centauri = 4.367 # float, lightyears\n",
    "can_liftoff = True\n",
    "shuttle_landed_on_the_moon = \"Apollo 11\" #string"
   ]
  },
  {
   "cell_type": "code",
   "execution_count": null,
   "metadata": {},
   "outputs": [],
   "source": [
    "# Operators\n",
    "# <left side> <operator> <right side>\n",
    "\n",
    "left_side = 10\n",
    "right_side = 5\n",
    "left_side / right_side # 2\n"
   ]
  },
  {
   "cell_type": "code",
   "execution_count": null,
   "metadata": {},
   "outputs": [
    {
     "name": "stdout",
     "output_type": "stream",
     "text": [
      "2024-02-21\n"
     ]
    }
   ],
   "source": [
    "# date\n",
    "\n",
    "from datetime import date\n",
    "date.today()\n",
    "print(date.today())"
   ]
  },
  {
   "cell_type": "code",
   "execution_count": null,
   "metadata": {},
   "outputs": [],
   "source": [
    "# Data type conversion\n",
    "\n",
    "# print(\"Today's date is: \" + date.today())\n",
    "# type error\n",
    "\n",
    "# convert with `str()`\n",
    "print(\"Today's date is: \" + str(date.today()))"
   ]
  },
  {
   "cell_type": "code",
   "execution_count": null,
   "metadata": {},
   "outputs": [],
   "source": [
    "# Exercise - Work with output\n",
    "\n",
    "# Exercise - Work with output\n",
    "\n",
    "# converting parsecs to lightyears. One parsec is 3.26 lightyears\n",
    "\n",
    "parsecs = 11\n",
    "lightyears = parsecs * 3.26\n",
    "print(str(parsecs) + \" parsecs is \" + str(lightyears) + \" lightyears\")\n"
   ]
  },
  {
   "cell_type": "markdown",
   "metadata": {},
   "source": [
    "# Collect input\n",
    "\n",
    "\n",
    "## Command-line input\n",
    "\n",
    "When you start a program by using python3, you give it the name of the file to start. You can also give it a set of arguments: data that the program will have access to when running. Here's how that can look:\n",
    "\n",
    "```sh\n",
    "python3 backup.py 2023-01-01\n",
    "```\n",
    "\n",
    "## Command-line arguments\n",
    "\n",
    "How are these commands captured on the coding side of things? By using the `sys` module, you can retrieve the command-line arguments and use them in your program. Look at the following code:\n",
    "\n",
    "```py\n",
    "import sys\n",
    "\n",
    "print(sys.argv)\n",
    "print(sys.argv[0]) # program name\n",
    "print(sys.argv[1]) # first arg\n",
    "```\n",
    "\n",
    "If execute the program as `python3 backup.py 2023-01-01`\n",
    "\n",
    "The expected output:\n",
    "```sh\n",
    "['backup.py', '2023-01-01'] \n",
    "backup.py\n",
    "2023-01-01\n",
    "```\n",
    "\n",
    "## User input\n",
    "\n",
    "Another way to pass data to the program is having the user enter the data. You can code it so the program tells the user to enter information. You save that entered data in the program and then act on it.\n",
    "\n",
    "To capture information from the user, you'll use the `input()` function. Here's an example:\n",
    "\n",
    "```py\n",
    "print(\"Welcome to the greeter program\")\n",
    "name = input(\"Enter your name: \")\n",
    "print(\"Greetings \" + name)\n",
    "```"
   ]
  },
  {
   "cell_type": "markdown",
   "metadata": {},
   "source": [
    "# Exercise - Collect input\n",
    "\n",
    "## Improve the parsec calculator above to take user input\n",
    "\n",
    "```py\n",
    "parsecs_input = input(\"Input number of parsecs:\")\n",
    "parsecs = int(parsecs_input)\n",
    "lightyears = 3.26156 * parsecs\n",
    "\n",
    "print(parsecs_input + \" parsecs is \" + str(lightyears) + \" lightyears\")\n",
    "```"
   ]
  }
 ],
 "metadata": {
  "kernelspec": {
   "display_name": ".venv",
   "language": "python",
   "name": "python3"
  },
  "language_info": {
   "codemirror_mode": {
    "name": "ipython",
    "version": 3
   },
   "file_extension": ".py",
   "mimetype": "text/x-python",
   "name": "python",
   "nbconvert_exporter": "python",
   "pygments_lexer": "ipython3",
   "version": "3.8.18"
  }
 },
 "nbformat": 4,
 "nbformat_minor": 2
}
