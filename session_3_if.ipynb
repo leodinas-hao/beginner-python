{
 "cells": [
  {
   "cell_type": "markdown",
   "metadata": {},
   "source": [
    "# Use Boolean logic in Python\n",
    "\n",
    "# What will you learn?\n",
    "\n",
    "By the end of this module, you'll be able to:\n",
    "\n",
    "- Run code under various conditions by using if, else, and elif statements.\n",
    "- Combine conditional logic and create more complex conditions by using and and or operators.\n",
    "\n",
    "# What is the main objective?\n",
    "\n",
    "This module teaches you how to use conditional logic to create decision-driven programs.\n",
    "\n",
    "# Write 'if' statements\n",
    "\n",
    "To express conditional logic in Python, you use if statements. When you're writing an if statement, you're relying on another concept we cover in this module, mathematical operators. Python supports the common logic operators from math: equals, not equals, less than, less than or equal to, greater than, and greater than or equal to. You're probably used to seeing these operators displayed using symbols, which is how they’re represented in Python, too.\n",
    "\n",
    "- Equals: `a == b`\n",
    "- Not Equals: `a != b`\n",
    "- Less than: `a < b`\n",
    "- Less than or equal to: `a <= b`\n",
    "- Greater than: `a > b`\n",
    "- Greater than or equal to: `a >= b`"
   ]
  },
  {
   "cell_type": "code",
   "execution_count": 1,
   "metadata": {},
   "outputs": [],
   "source": [
    "# test expression\n",
    "a = 97\n",
    "b = 55\n",
    "# test expression\n",
    "if a < b:\n",
    "  # statement to be run\n",
    "  print(b)"
   ]
  },
  {
   "cell_type": "code",
   "execution_count": 2,
   "metadata": {},
   "outputs": [
    {
     "name": "stdout",
     "output_type": "stream",
     "text": [
      "93\n"
     ]
    }
   ],
   "source": [
    "# Work with else\n",
    "\n",
    "a = 27\n",
    "b = 93\n",
    "if a >= b:\n",
    "  print(a)\n",
    "else:\n",
    "  print(b)\n"
   ]
  },
  {
   "cell_type": "code",
   "execution_count": 3,
   "metadata": {},
   "outputs": [
    {
     "name": "stdout",
     "output_type": "stream",
     "text": [
      "a is less than or equal to b\n"
     ]
    }
   ],
   "source": [
    "# Work with elif\n",
    "\n",
    "a = 27\n",
    "b = 93\n",
    "if a <= b:\n",
    "  print(\"a is less than or equal to b\")\n",
    "elif a == b:\n",
    "  print(\"a is equal to b\")"
   ]
  },
  {
   "cell_type": "code",
   "execution_count": 4,
   "metadata": {},
   "outputs": [
    {
     "name": "stdout",
     "output_type": "stream",
     "text": [
      "a is less than b\n"
     ]
    }
   ],
   "source": [
    "# Combine if, elif, and else statements\n",
    "\n",
    "a = 27\n",
    "b = 93\n",
    "if a < b:\n",
    "  print(\"a is less than b\")\n",
    "elif a > b:\n",
    "  print(\"a is greater than b\")\n",
    "else: \n",
    "  print (\"a is equal to b\")"
   ]
  },
  {
   "cell_type": "code",
   "execution_count": 5,
   "metadata": {},
   "outputs": [
    {
     "name": "stdout",
     "output_type": "stream",
     "text": [
      "a is less than b\n"
     ]
    }
   ],
   "source": [
    "# Work with nested conditional logic\n",
    "\n",
    "## To nest conditions, indent the inner conditions, and everything at the same level of indentation\n",
    "\n",
    "a = 16\n",
    "b = 25\n",
    "c = 27\n",
    "if a > b:\n",
    "  if b > c:\n",
    "    print (\"a is greater than b and b is greater than c\")\n",
    "  else: \n",
    "    print (\"a is greater than b and less than c\")\n",
    "elif a == b:\n",
    "  print (\"a is equal to b\")\n",
    "else:\n",
    "  print (\"a is less than b\")"
   ]
  },
  {
   "cell_type": "code",
   "execution_count": 6,
   "metadata": {},
   "outputs": [
    {
     "name": "stdout",
     "output_type": "stream",
     "text": [
      "We need to keep an eye on this object\n"
     ]
    }
   ],
   "source": [
    "# Exercise: Use logic to examine an object's size\n",
    "\n",
    "object_size = 10\n",
    "if object_size > 5:\n",
    "  print('We need to keep an eye on this object')\n",
    "else:\n",
    "  print('Object poses no threat.')"
   ]
  },
  {
   "cell_type": "code",
   "execution_count": 7,
   "metadata": {},
   "outputs": [
    {
     "name": "stdout",
     "output_type": "stream",
     "text": [
      "57\n"
     ]
    }
   ],
   "source": [
    "# The `or` operator\n",
    "\n",
    "a = 23\n",
    "b = 34\n",
    "if a == 34 or b == 34:\n",
    "  print(a + b)"
   ]
  },
  {
   "cell_type": "code",
   "execution_count": 8,
   "metadata": {},
   "outputs": [],
   "source": [
    "# The `and` operator\n",
    "\n",
    "a = 23\n",
    "b = 34\n",
    "if a == 34 and b == 34:\n",
    "  print (a + b)"
   ]
  },
  {
   "cell_type": "markdown",
   "metadata": {},
   "source": [
    "# The difference between and and or\n",
    "To highlight the difference between the two Boolean operators, you can use a truth table. A truth table shows you what the entire test expression evaluates to based on the two subexpressions.\n",
    "\n",
    "Here's the truth table for `and`:\n",
    "\n",
    "| subexpression1 | Operator | subexpression2 | Result |\n",
    "| -------------- | -------- | -------------- | ------ |\n",
    "| True           | and      | True           | True   |\n",
    "| True           | and      | False          | False  |\n",
    "| False          | and      | True           | False  |\n",
    "| False          | and      | False          | False  |\n",
    "\n",
    "\n",
    "Here's the truth table for `or`:\n",
    "\n",
    "| subexpression1 | Operator | subexpression2 | Result |\n",
    "| -------------- | -------- | -------------- | ------ |\n",
    "| True           | or       | True           | True   |\n",
    "| True           | or       | False          | True   |\n",
    "| False          | or       | True           | True   |\n",
    "| False          | or       | False          | False  |"
   ]
  },
  {
   "cell_type": "code",
   "execution_count": 9,
   "metadata": {},
   "outputs": [
    {
     "name": "stdout",
     "output_type": "stream",
     "text": [
      "Object poses no threat\n"
     ]
    }
   ],
   "source": [
    "# Exercise: Use complex logic to determine possible evasive maneuvers\n",
    "\n",
    "object_size = 10\n",
    "proximity = 9000\n",
    "\n",
    "if object_size > 5 and proximity < 1000:\n",
    "  print('Evasive maneuvers required')\n",
    "else:\n",
    "  print('Object poses no threat')"
   ]
  }
 ],
 "metadata": {
  "kernelspec": {
   "display_name": ".venv",
   "language": "python",
   "name": "python3"
  },
  "language_info": {
   "codemirror_mode": {
    "name": "ipython",
    "version": 3
   },
   "file_extension": ".py",
   "mimetype": "text/x-python",
   "name": "python",
   "nbconvert_exporter": "python",
   "pygments_lexer": "ipython3",
   "version": "3.8.18"
  }
 },
 "nbformat": 4,
 "nbformat_minor": 2
}
