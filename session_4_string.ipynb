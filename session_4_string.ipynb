{
 "cells": [
  {
   "cell_type": "markdown",
   "metadata": {},
   "source": [
    "# Introduction\n",
    "\n",
    "Python strings are one of the most important and common types in the language. Learning how to interact with strings, including formatting and replacing text, is an essential skill to develop for working with Python code.\n",
    "\n",
    "# What will you learn?\n",
    "\n",
    "By the end of this module, you'll be able to:\n",
    "\n",
    "- Use special string methods.\n",
    "- Use variables to introduce values in text.\n",
    "- Apply other advanced formatting techniques to change how text is presented.\n",
    "\n",
    "# What is the main objective?\n",
    "\n",
    "In this module, you'll incorporate string operations when you create a Python program."
   ]
  },
  {
   "cell_type": "code",
   "execution_count": 1,
   "metadata": {},
   "outputs": [
    {
     "name": "stdout",
     "output_type": "stream",
     "text": [
      "The Moon has no atmosphere.\n"
     ]
    }
   ],
   "source": [
    "# a simple string\n",
    "fact = \"The Moon has no atmosphere.\"\n",
    "print(fact)"
   ]
  },
  {
   "cell_type": "markdown",
   "metadata": {},
   "source": [
    "# Immutability of strings\n",
    "\n",
    "In Python, strings are immutable. That is, they can't change. This property of the string type can be surprising, because Python doesn't give you errors when you alter strings.\n",
    "\n",
    "You need to add another fact (sentence) to the single fact that's assigned to a variable. It seems as though adding the second fact would alter the variable, as in the following example:"
   ]
  },
  {
   "cell_type": "code",
   "execution_count": 2,
   "metadata": {},
   "outputs": [
    {
     "data": {
      "text/plain": [
       "'The Moon has no atmosphere.No sound can be heard on the Moon.'"
      ]
     },
     "execution_count": 2,
     "metadata": {},
     "output_type": "execute_result"
    }
   ],
   "source": [
    "fact = \"The Moon has no atmosphere.\"\n",
    "fact + \"No sound can be heard on the Moon.\""
   ]
  },
  {
   "cell_type": "markdown",
   "metadata": {},
   "source": [
    "You might expect the output to be: The Moon has no atmosphere.No sound can be heard on the Moon.\n",
    "\n",
    "Although it might look as though we've modified the variable fact, a quick check of the value reveals that the original value is unchanged:"
   ]
  },
  {
   "cell_type": "code",
   "execution_count": 3,
   "metadata": {},
   "outputs": [
    {
     "name": "stdout",
     "output_type": "stream",
     "text": [
      "The Moon has no atmosphere.\n"
     ]
    }
   ],
   "source": [
    "fact = \"The Moon has no atmosphere.\"\n",
    "fact + \"No sound can be heard on the Moon.\"\n",
    "print(fact)"
   ]
  },
  {
   "cell_type": "markdown",
   "metadata": {},
   "source": [
    "The trick is that you must use a return value. When you add strings, Python doesn't modify any string, but it returns a new string as the result. To keep this new result, assign it to a new variable:"
   ]
  },
  {
   "cell_type": "code",
   "execution_count": 4,
   "metadata": {},
   "outputs": [
    {
     "name": "stdout",
     "output_type": "stream",
     "text": [
      "The Moon has no atmosphere.No sound can be heard on the Moon.\n"
     ]
    }
   ],
   "source": [
    "fact = \"The Moon has no atmosphere.\"\n",
    "two_facts = fact + \"No sound can be heard on the Moon.\"\n",
    "print(two_facts)"
   ]
  },
  {
   "cell_type": "code",
   "execution_count": 28,
   "metadata": {},
   "outputs": [],
   "source": [
    "# About using quotation marks\n",
    "\n",
    "# enclose Python strings in single, double, or triple quotation marks. Although you can use them interchangeably\n",
    "# it's best to use one type consistently within a project\n",
    "\n",
    "moon_radius = \"The Moon has a radius of 1,080 miles.\"\n",
    "\n",
    "# when a string contains words, numbers, or special characters (a substring) that are also enclosed in quotation marks, you should use a different style\n",
    "\n",
    "str_1 = 'The \"near side\" is the part of the Moon that faces the Earth.'\n",
    "\n",
    "str_2 = \"We only see about 60% of the Moon's surface.\"\n",
    "\n",
    "str_3 = \"\"\"We only see about 60% of the Moon's surface, this is known as the \"near side\".\"\"\"\n",
    "\n",
    "str_4 = '''We only see about 60% of the Moon's surface, this is known as the \"near side\".'''"
   ]
  },
  {
   "cell_type": "code",
   "execution_count": 73,
   "metadata": {},
   "outputs": [
    {
     "name": "stdout",
     "output_type": "stream",
     "text": [
      "Facts about the Moon:\n",
      " There is no atmosphere.\n",
      " There is no sound.\n",
      "\n",
      "\n",
      "\n",
      "Facts about the Moon:\n",
      " There is no atmosphere. \n",
      " There is no sound.\n"
     ]
    }
   ],
   "source": [
    "# Multiline text\n",
    "# Use a newline character (\\n).\n",
    "# Use triple quotation marks (\"\"\").\n",
    "\n",
    "multiline = \"Facts about the Moon:\\n There is no atmosphere.\\n There is no sound.\"\n",
    "print(multiline)\n",
    "\n",
    "\n",
    "multiline = \"\"\"\n",
    "\n",
    "\n",
    "Facts about the Moon:\n",
    " There is no atmosphere. \n",
    " There is no sound.\"\"\"\n",
    "print(multiline)"
   ]
  },
  {
   "cell_type": "code",
   "execution_count": 95,
   "metadata": {},
   "outputs": [
    {
     "name": "stdout",
     "output_type": "stream",
     "text": [
      "Temperatures And Facts About The Moon\n",
      "Temperatures And Facts About The Moon\n"
     ]
    }
   ],
   "source": [
    "# String methods in Python\n",
    "\n",
    "# the method .title() returns the string in initial caps and can be used with a string directly\n",
    "print(\"temperatures and facts about the moon\".title())\n",
    "\n",
    "# same as on a variable\n",
    "heading = \"temperatures and facts about the moon\"\n",
    "heading_upper = heading.title()\n",
    "print(heading_upper)"
   ]
  },
  {
   "cell_type": "code",
   "execution_count": 116,
   "metadata": {},
   "outputs": [
    {
     "name": "stdout",
     "output_type": "stream",
     "text": [
      "['Daylight:', '260', 'F', 'Nighttime:', '-280', 'F']\n"
     ]
    }
   ],
   "source": [
    "# Split a string\n",
    "\n",
    "# split by space\n",
    "temperatures = \"Daylight: 260 F Nighttime: -280 F\"\n",
    "temperatures_list = temperatures.split()\n",
    "print(temperatures_list)"
   ]
  },
  {
   "cell_type": "code",
   "execution_count": 155,
   "metadata": {},
   "outputs": [
    {
     "name": "stdout",
     "output_type": "stream",
     "text": [
      "['Daylight: 260 F', ' Nighttime: -280 F']\n"
     ]
    }
   ],
   "source": [
    "# split by new line\n",
    "temperatures = \"Daylight: 260 F\\n Nighttime: -280 F\"\n",
    "temperatures_list = temperatures.split('\\n')\n",
    "print(temperatures_list)"
   ]
  },
  {
   "cell_type": "code",
   "execution_count": 174,
   "metadata": {},
   "outputs": [
    {
     "name": "stdout",
     "output_type": "stream",
     "text": [
      "False\n"
     ]
    }
   ],
   "source": [
    "# Search for a string\n",
    "print(\"Moon\" in \"This text will describe facts and challenges with space travel\")"
   ]
  },
  {
   "cell_type": "code",
   "execution_count": 175,
   "metadata": {},
   "outputs": [
    {
     "name": "stdout",
     "output_type": "stream",
     "text": [
      "True\n"
     ]
    }
   ],
   "source": [
    "print(\"Moon\" in \"This text will describe facts about the Moon\")"
   ]
  },
  {
   "cell_type": "code",
   "execution_count": 176,
   "metadata": {},
   "outputs": [
    {
     "name": "stdout",
     "output_type": "stream",
     "text": [
      "-1\n",
      "64\n"
     ]
    }
   ],
   "source": [
    "# search by '.find()'\n",
    "\n",
    "temperatures = \"\"\"Saturn has a daytime temperature of -170 degrees Celsius, while Mars has -28 Celsius.\"\"\"\n",
    "print(temperatures.find(\"Moon\"))\n",
    "\n",
    "temperatures = \"\"\"Saturn has a daytime temperature of -170 degrees Celsius, while Mars has -28 Celsius.\"\"\"\n",
    "print(temperatures.find(\"Mars\"))"
   ]
  },
  {
   "cell_type": "code",
   "execution_count": 208,
   "metadata": {},
   "outputs": [
    {
     "name": "stdout",
     "output_type": "stream",
     "text": [
      "1\n",
      "0\n"
     ]
    }
   ],
   "source": [
    "# search by '.count()'\n",
    "\n",
    "temperatures = \"\"\"Saturn has a daytime temperature of -170 degrees Celsius, while Mars has -28 Celsius.\"\"\"\n",
    "print(temperatures.count(\"Mars\"))\n",
    "print(temperatures.count(\"Moon\"))"
   ]
  },
  {
   "cell_type": "code",
   "execution_count": 223,
   "metadata": {},
   "outputs": [
    {
     "name": "stdout",
     "output_type": "stream",
     "text": [
      "the moon and the earth\n"
     ]
    }
   ],
   "source": [
    "# lower case\n",
    "\n",
    "print(\"The Moon And The Earth\".lower())"
   ]
  },
  {
   "cell_type": "code",
   "execution_count": 237,
   "metadata": {},
   "outputs": [
    {
     "name": "stdout",
     "output_type": "stream",
     "text": [
      "THE MOON AND THE EARTH\n"
     ]
    }
   ],
   "source": [
    "# upper case\n",
    "print(\"The Moon And The Earth\".upper())"
   ]
  },
  {
   "cell_type": "code",
   "execution_count": 250,
   "metadata": {},
   "outputs": [
    {
     "name": "stdout",
     "output_type": "stream",
     "text": [
      "['Mars Average Temperature', ' -60 C']\n",
      " -60 C\n"
     ]
    }
   ],
   "source": [
    "# check content\n",
    "\n",
    "# get the average temperature from string\n",
    "temperatures = \"Mars Average Temperature: -60 C\"\n",
    "parts = temperatures.split(':')\n",
    "print(parts)\n",
    "print(parts[-1])\n",
    "# print(parts[1])"
   ]
  },
  {
   "cell_type": "code",
   "execution_count": 262,
   "metadata": {},
   "outputs": [
    {
     "name": "stdout",
     "output_type": "stream",
     "text": [
      "30\n"
     ]
    }
   ],
   "source": [
    "# if text is irregular, how to get the temperature?\n",
    "\n",
    "mars_temperature = \"The highest temperature on Mars is about 30 C\"\n",
    "for item in mars_temperature.split():\n",
    "  if item.isnumeric():\n",
    "    print(item)"
   ]
  },
  {
   "cell_type": "code",
   "execution_count": 263,
   "metadata": {},
   "outputs": [
    {
     "name": "stdout",
     "output_type": "stream",
     "text": [
      "True\n"
     ]
    }
   ],
   "source": [
    "# .startswith()\n",
    "print(\"-60\".startswith('-'))"
   ]
  },
  {
   "cell_type": "code",
   "execution_count": 264,
   "metadata": {},
   "outputs": [
    {
     "name": "stdout",
     "output_type": "stream",
     "text": [
      "This temperature is in Celsius\n"
     ]
    }
   ],
   "source": [
    "# .endswith()\n",
    "\n",
    "if \"30 C\".endswith(\"C\"):\n",
    "  print(\"This temperature is in Celsius\")"
   ]
  },
  {
   "cell_type": "code",
   "execution_count": 273,
   "metadata": {},
   "outputs": [
    {
     "name": "stdout",
     "output_type": "stream",
     "text": [
      "Saturn has a daytime temperature of -170 degrees C, while Mars has -28 C.\n"
     ]
    }
   ],
   "source": [
    "# Transform text with \".replace()\"\n",
    "\n",
    "print(\"Saturn has a daytime temperature of -170 degrees Celsius, while Mars has -28 Celsius.\".replace(\"Celsius\", \"C\"))\n"
   ]
  },
  {
   "cell_type": "code",
   "execution_count": 295,
   "metadata": {},
   "outputs": [
    {
     "name": "stdout",
     "output_type": "stream",
     "text": [
      "The Moon is drifting away from the Earth. On average, the Moon is moving about 4cm every year.\n"
     ]
    }
   ],
   "source": [
    "# join the strings\n",
    "\n",
    "moon_facts = [\"The Moon is drifting away from the Earth.\", \"On average, the Moon is moving about 4cm every year.\"]\n",
    "print(' '.join(moon_facts))"
   ]
  },
  {
   "cell_type": "markdown",
   "metadata": {},
   "source": [
    "# Exercise: Transform strings\n",
    "\n",
    "## Parsing interesting facts about the moon\n",
    "\n",
    "Start by storing the following paragraph in a variable named text:\n",
    "\n",
    "```\n",
    "Interesting facts about the Moon. The Moon is Earth's only satellite. There are several interesting facts about the Moon and how it affects life here on Earth. \n",
    "On average, the Moon moves 4cm away from the Earth every year. This yearly drift is not significant enough to cause immediate effects on Earth. The highest daylight temperature of the Moon is 127 C.\n",
    "```\n",
    "\n",
    "## Separate the paragraph into sentences\n",
    "\n",
    "`split` method to split the text into sentences by looking for the string `.`\n",
    "\n",
    "## Find keywords\n",
    "\n",
    "search for the word `temperature`\n"
   ]
  },
  {
   "cell_type": "code",
   "execution_count": 296,
   "metadata": {},
   "outputs": [
    {
     "name": "stdout",
     "output_type": "stream",
     "text": [
      "Interesting facts about the Moon\n",
      "The Moon is Earth's only satellite\n",
      "There are several interesting facts about the Moon and how it affects life here on Earth\n",
      "On average, the Moon moves 4cm away from the Earth every year\n",
      "This yearly drift is not significant enough to cause immediate effects on Earth\n",
      "The highest daylight temperature of the Moon is 127 C.\n",
      "Keywords: The highest daylight temperature of the Moon is 127 C.\n"
     ]
    }
   ],
   "source": [
    "text = \"\"\"Interesting facts about the Moon. The Moon is Earth's only satellite. There are several interesting facts about the Moon and how it affects life here on Earth. On average, the Moon moves 4cm away from the Earth every year. This yearly drift is not significant enough to cause immediate effects on Earth. The highest daylight temperature of the Moon is 127 C.\"\"\"\n",
    "\n",
    "sentences = text.split('. ')\n",
    "# print(sentences)\n",
    "\n",
    "for sentence in sentences:\n",
    "  print(sentence)\n",
    "  \n",
    "  if 'temperature' in sentence:\n",
    "    print(f'Keywords: {sentence}')"
   ]
  },
  {
   "cell_type": "code",
   "execution_count": 297,
   "metadata": {},
   "outputs": [
    {
     "name": "stdout",
     "output_type": "stream",
     "text": [
      "On the Moon, you would weigh about 1/6 of your weight on Earth.\n",
      "Both sides of the Moon get the same amount of sunlight, but only one side is seen from Earth because the Moon rotates around its own axis when it orbits Earth.\n"
     ]
    }
   ],
   "source": [
    "# String format in Python\n",
    "\n",
    "## Percent sign (%) formatting\n",
    "\n",
    "mass_percentage = \"1/6\"\n",
    "print(\"On the Moon, you would weigh about %s of your weight on Earth.\" % mass_percentage)\n",
    "\n",
    "# multiple values with parentheses\n",
    "print(\"\"\"Both sides of the %s get the same amount of sunlight, but only one side is seen from %s because the %s rotates around its own axis when it orbits %s.\"\"\" % (\"Moon\", \"Earth\", \"Moon\", \"Earth\"))"
   ]
  },
  {
   "cell_type": "code",
   "execution_count": 298,
   "metadata": {},
   "outputs": [
    {
     "name": "stdout",
     "output_type": "stream",
     "text": [
      "On the Moon, you would weigh about 1/6 of your weight on Earth.\n",
      "You are lighter on the Moon, because on the Moon you would weigh about 1/6 of your weight on Earth.\n"
     ]
    }
   ],
   "source": [
    "# `format()` method\n",
    "\n",
    "mass_percentage = \"1/6\"\n",
    "print(\"On the Moon, you would weigh about {} of your weight on Earth.\".format(mass_percentage))\n",
    "\n",
    "# multiple values\n",
    "mass_percentage = \"1/6\"\n",
    "print(\"\"\"You are lighter on the {0}, because on the {0} you would weigh about {1} of your weight on Earth.\"\"\".format(\"Moon\", mass_percentage))"
   ]
  },
  {
   "cell_type": "code",
   "execution_count": 299,
   "metadata": {},
   "outputs": [
    {
     "name": "stdout",
     "output_type": "stream",
     "text": [
      "On the Moon, you would weigh about 1/6 of your weight on Earth.\n",
      "16.7\n",
      "On the Moon, you would weigh about 16.7% of your weight on Earth.\n"
     ]
    }
   ],
   "source": [
    "# f-strings\n",
    "\n",
    "print(f\"On the Moon, you would weigh about {mass_percentage} of your weight on Earth.\")\n",
    "\n",
    "print(round(100/6, 1))\n",
    "\n",
    "print(f\"On the Moon, you would weigh about {round(100/6, 1)}% of your weight on Earth.\")\n"
   ]
  },
  {
   "cell_type": "code",
   "execution_count": 300,
   "metadata": {},
   "outputs": [
    {
     "name": "stdout",
     "output_type": "stream",
     "text": [
      "Interesting Facts About The Moon\n"
     ]
    }
   ],
   "source": [
    "subject = \"interesting facts about the moon\"\n",
    "heading = f\"{subject.title()}\"\n",
    "print(heading)"
   ]
  },
  {
   "cell_type": "markdown",
   "metadata": {},
   "source": [
    "# Exercise: Formatting strings\n",
    "\n",
    "Knowing how to format strings is essential when you're presenting information from a program. There are a few different ways to accomplish this in Python. In this exercise, you use variables that hold key facts about gravity on various moons and then use them to format and print the information.\n",
    "\n",
    "This exercise is broken into a series of steps. For each step you will be presented with the goal for the step, followed by an empty cell. Enter your Python into the cell and run it. The solution for each step will follow each cell.\n",
    "\n",
    "## Create the variables\n",
    "\n",
    "Start by creating three variables, `name`, `gravity`, and `planet`, and set them to the following values:\n",
    "\n",
    "```\n",
    "name: Ganymede\n",
    "planet: Mars\n",
    "gravity: 1.43\n",
    "```\n",
    "\n",
    "## Create the template\n",
    "\n",
    "Now you will create the template to display the information about the moon. You want the output to look like the following:\n",
    "\n",
    "```\n",
    "Gravity Facts about {name}\n",
    "--------------------------\n",
    "Planet Name: {planet}\n",
    "Gravity on {name}: {gravity} m/s2\n",
    "```\n",
    "\n",
    "Create a variable named `template`, and set it to the template you create.\n",
    "\n",
    "## Use the template\n",
    "\n",
    "With the template created, it's time to use it to display information about the moon! Use the `format` function on `template` to use the template and `print` the information. Set `name`, `planet`, and `gravity` to the appropriate values.\n",
    "\n",
    "\n"
   ]
  },
  {
   "cell_type": "code",
   "execution_count": 301,
   "metadata": {},
   "outputs": [
    {
     "name": "stdout",
     "output_type": "stream",
     "text": [
      "Gravity Facts about Ganymede\n",
      "----------------------------------------\n",
      "Planet Name: Mars\n",
      "Gravity on Ganymede: 1.43 m/s2\n"
     ]
    }
   ],
   "source": [
    "name = 'Ganymede'\n",
    "planet = 'Mars'\n",
    "gravity = '1.43'\n",
    "\n",
    "template = \"\"\"Gravity Facts about {name}\n",
    "----------------------------------------\n",
    "Planet Name: {planet}\n",
    "Gravity on {name}: {gravity} m/s2\"\"\"\n",
    "\n",
    "print(template.format(name=name, planet=planet, gravity=gravity))"
   ]
  }
 ],
 "metadata": {
  "kernelspec": {
   "display_name": "Python 3",
   "language": "python",
   "name": "python3"
  },
  "language_info": {
   "codemirror_mode": {
    "name": "ipython",
    "version": 3
   },
   "file_extension": ".py",
   "mimetype": "text/x-python",
   "name": "python",
   "nbconvert_exporter": "python",
   "pygments_lexer": "ipython3",
   "version": "3.8.18"
  }
 },
 "nbformat": 4,
 "nbformat_minor": 2
}
