{
 "cells": [
  {
   "cell_type": "markdown",
   "metadata": {},
   "source": [
    "# Python functions\n",
    "\n",
    "\n",
    "## What will I learn?\n",
    "In this module, you'll learn to:\n",
    "- Use default, required, and wildcard inputs.\n",
    "- Make code reusable by extracting common patterns into separate functions.\n",
    "- Return values, data structures, or computed results.\n",
    "\n",
    "\n",
    "## What is the main objective?\n",
    "By the end of this module, you'll understand some of the rules and behavior associated with functions, including how to handle inputs and outputs."
   ]
  },
  {
   "cell_type": "markdown",
   "metadata": {},
   "source": [
    "# Basics of Python functions\n",
    "\n",
    "Functions are the next step after you've learned Python's programming basics. In its simplest form, a function contains code that always returns a value (or values). In some cases, a function also has optional or required inputs.\n",
    "\n",
    "When you start writing code that duplicates other parts of the program, it becomes a perfect opportunity to extract the code into a function. Although sharing common code through functions is useful, you can also limit the size of code by extracting parts out into smaller (more readable) functions.\n",
    "\n",
    "Programs that avoid duplication and prevent large functions by using smaller functions are more readable and maintainable. They're also easier to debug when things aren't working right.\n",
    "\n",
    "\n",
    "> To create a function, you use the `def` keyword followed by a name, parentheses, and then the body with the function code\n"
   ]
  },
  {
   "cell_type": "code",
   "execution_count": 60,
   "metadata": {},
   "outputs": [
    {
     "name": "stdout",
     "output_type": "stream",
     "text": [
      "payload, propellant, structure\n"
     ]
    }
   ],
   "source": [
    "# define a function named \"rocket_parts\" with no arguments needed\n",
    "def rocket_parts():\n",
    "  print(\"payload, propellant, structure\")\n",
    "\n",
    "# invoke the function\n",
    "rocket_parts()"
   ]
  },
  {
   "cell_type": "code",
   "execution_count": 61,
   "metadata": {},
   "outputs": [
    {
     "name": "stdout",
     "output_type": "stream",
     "text": [
      "payload, propellant, structure\n",
      "output is None\n"
     ]
    }
   ],
   "source": [
    "# assign function output to a variable\n",
    "# if a function doesn't explicitly return a value, it implicitly returns `None`\n",
    "\n",
    "output = rocket_parts()\n",
    "\n",
    "if output is None:\n",
    "  print('output is None')"
   ]
  },
  {
   "cell_type": "code",
   "execution_count": 62,
   "metadata": {},
   "outputs": [
    {
     "data": {
      "text/plain": [
       "True"
      ]
     },
     "execution_count": 62,
     "metadata": {},
     "output_type": "execute_result"
    }
   ],
   "source": [
    "# required vs. optional arguments\n",
    "\n",
    "# built-in function that requires an argument is `any()`\n",
    "# This function takes an iterable (for example, a list) and returns `True` if any item in the iterable is `True`. Otherwise, it returns `False`\n",
    "any([True, False, False])\n"
   ]
  },
  {
   "cell_type": "code",
   "execution_count": 63,
   "metadata": {},
   "outputs": [
    {
     "data": {
      "text/plain": [
       "False"
      ]
     },
     "execution_count": 63,
     "metadata": {},
     "output_type": "execute_result"
    }
   ],
   "source": [
    "any([False, False, False])"
   ]
  },
  {
   "cell_type": "code",
   "execution_count": 64,
   "metadata": {},
   "outputs": [
    {
     "ename": "TypeError",
     "evalue": "any() takes exactly one argument (0 given)",
     "output_type": "error",
     "traceback": [
      "\u001b[0;31m---------------------------------------------------------------------------\u001b[0m",
      "\u001b[0;31mTypeError\u001b[0m                                 Traceback (most recent call last)",
      "Cell \u001b[0;32mIn[64], line 2\u001b[0m\n\u001b[1;32m      1\u001b[0m \u001b[38;5;66;03m# when call `any()` without any arguments, error raised\u001b[39;00m\n\u001b[0;32m----> 2\u001b[0m \u001b[38;5;28;43many\u001b[39;49m\u001b[43m(\u001b[49m\u001b[43m)\u001b[49m\n",
      "\u001b[0;31mTypeError\u001b[0m: any() takes exactly one argument (0 given)"
     ]
    }
   ],
   "source": [
    "# when call `any()` without any arguments, error raised\n",
    "any()"
   ]
  },
  {
   "cell_type": "code",
   "execution_count": null,
   "metadata": {},
   "outputs": [
    {
     "data": {
      "text/plain": [
       "''"
      ]
     },
     "execution_count": 13,
     "metadata": {},
     "output_type": "execute_result"
    }
   ],
   "source": [
    "# optional arguments:\n",
    "# for example: `str()`\n",
    "\n",
    "str()"
   ]
  },
  {
   "cell_type": "code",
   "execution_count": null,
   "metadata": {},
   "outputs": [
    {
     "data": {
      "text/plain": [
       "'15'"
      ]
     },
     "execution_count": 14,
     "metadata": {},
     "output_type": "execute_result"
    }
   ],
   "source": [
    "str(15)"
   ]
  },
  {
   "cell_type": "code",
   "execution_count": null,
   "metadata": {},
   "outputs": [],
   "source": [
    "# function requiring an argument\n",
    "\n",
    "def distance_from_earth(destination):\n",
    "  if destination == \"Moon\":\n",
    "    return \"238,855\"\n",
    "  else:\n",
    "    return \"Unable to compute to that destination\""
   ]
  },
  {
   "cell_type": "code",
   "execution_count": null,
   "metadata": {},
   "outputs": [
    {
     "ename": "TypeError",
     "evalue": "distance_from_earth() missing 1 required positional argument: 'destination'",
     "output_type": "error",
     "traceback": [
      "\u001b[0;31m---------------------------------------------------------------------------\u001b[0m",
      "\u001b[0;31mTypeError\u001b[0m                                 Traceback (most recent call last)",
      "Cell \u001b[0;32mIn[19], line 2\u001b[0m\n\u001b[1;32m      1\u001b[0m \u001b[38;5;66;03m# error raised when no argument is passed\u001b[39;00m\n\u001b[0;32m----> 2\u001b[0m \u001b[43mdistance_from_earth\u001b[49m\u001b[43m(\u001b[49m\u001b[43m)\u001b[49m\n",
      "\u001b[0;31mTypeError\u001b[0m: distance_from_earth() missing 1 required positional argument: 'destination'"
     ]
    }
   ],
   "source": [
    "# error raised when no argument is passed\n",
    "distance_from_earth()"
   ]
  },
  {
   "cell_type": "code",
   "execution_count": null,
   "metadata": {},
   "outputs": [
    {
     "data": {
      "text/plain": [
       "'238,855'"
      ]
     },
     "execution_count": 20,
     "metadata": {},
     "output_type": "execute_result"
    }
   ],
   "source": [
    "distance_from_earth(\"Moon\")"
   ]
  },
  {
   "cell_type": "code",
   "execution_count": null,
   "metadata": {},
   "outputs": [
    {
     "data": {
      "text/plain": [
       "132.69722222222222"
      ]
     },
     "execution_count": 21,
     "metadata": {},
     "output_type": "execute_result"
    }
   ],
   "source": [
    "# function requiring multiple arguments\n",
    "\n",
    "def days_to_complete(distance, speed):\n",
    "  hours = distance/speed\n",
    "  return hours/24\n",
    "\n",
    "days_to_complete(238855, 75)"
   ]
  },
  {
   "cell_type": "code",
   "execution_count": null,
   "metadata": {},
   "outputs": [
    {
     "data": {
      "text/plain": [
       "133"
      ]
     },
     "execution_count": 23,
     "metadata": {},
     "output_type": "execute_result"
    }
   ],
   "source": [
    "# functions as arguments\n",
    "total_days = days_to_complete(238855, 75)\n",
    "round(total_days)\n",
    "\n",
    "# or use function output to `round()`\n",
    "round(days_to_complete(238855, 75))"
   ]
  },
  {
   "cell_type": "markdown",
   "metadata": {},
   "source": [
    "# Exercise: Work with arguments in functions\n",
    "\n",
    "\n",
    "Create a report generation function:\n",
    "> Create a function named `generate_report`. The function will take three parameters named `main_tank`, `external_tank` and `hydrogen_tank`. When run, the function will display output which resembles the following:\n",
    "\n",
    "```\n",
    "Fuel report:\n",
    "  Main tank: ##\n",
    "  External tank: ##\n",
    "  Hydrogen tank: ##\n",
    "```"
   ]
  },
  {
   "cell_type": "code",
   "execution_count": null,
   "metadata": {},
   "outputs": [
    {
     "name": "stdout",
     "output_type": "stream",
     "text": [
      "Fuel Report:\n",
      "  Main tank: 80\n",
      "  External tank: 70\n",
      "  Hydrogen tank: 75 \n",
      "  \n"
     ]
    }
   ],
   "source": [
    "# define the function\n",
    "def generate_report(main_tank, external_tank, hydrogen_tank):\n",
    "  output = f\"\"\"Fuel Report:\n",
    "  Main tank: {main_tank}\n",
    "  External tank: {external_tank}\n",
    "  Hydrogen tank: {hydrogen_tank} \n",
    "  \"\"\"\n",
    "\n",
    "  print(output)\n",
    "\n",
    "# call function\n",
    "generate_report(80, 70, 75)"
   ]
  },
  {
   "cell_type": "markdown",
   "metadata": {},
   "source": [
    "## Use keyword arguments in Python\n",
    "\n",
    "Optional arguments require a default value assigned to them. These named arguments are called keyword arguments. Keyword argument values must be defined in the functions themselves. When you're calling a function that's defined with keyword arguments, it isn't necessary to use them at all."
   ]
  },
  {
   "cell_type": "code",
   "execution_count": null,
   "metadata": {},
   "outputs": [],
   "source": [
    "# function uses the datetime module to define the current time. \n",
    "# It uses timedelta to allow the addition operation that results in a new time object. \n",
    "# After computing that result, it returns the arrival estimation formatted as a string\n",
    "\n",
    "from datetime import timedelta, datetime\n",
    "\n",
    "def arrival_time(hours=51):\n",
    "  now = datetime.now()\n",
    "  arrival = now + timedelta(hours=hours)\n",
    "  return arrival.strftime(\"Arrival: %A %H:%M\")"
   ]
  },
  {
   "cell_type": "code",
   "execution_count": null,
   "metadata": {},
   "outputs": [
    {
     "data": {
      "text/plain": [
       "'Arrival: Friday 17:23'"
      ]
     },
     "execution_count": 35,
     "metadata": {},
     "output_type": "execute_result"
    }
   ],
   "source": [
    "# call without argument\n",
    "arrival_time()"
   ]
  },
  {
   "cell_type": "code",
   "execution_count": null,
   "metadata": {},
   "outputs": [
    {
     "data": {
      "text/plain": [
       "'Arrival: Wednesday 14:23'"
      ]
     },
     "execution_count": 36,
     "metadata": {},
     "output_type": "execute_result"
    }
   ],
   "source": [
    "# call with argument\n",
    "arrival_time(hours = 0)"
   ]
  },
  {
   "cell_type": "markdown",
   "metadata": {},
   "source": [
    "## Mixing arguments and keyword arguments\n",
    "\n",
    "Sometimes, a function needs a combination of arguments and keyword arguments. In Python, this combination follows a specific order. Arguments are always declared first, followed by keyword arguments."
   ]
  },
  {
   "cell_type": "code",
   "execution_count": null,
   "metadata": {},
   "outputs": [],
   "source": [
    "from datetime import timedelta, datetime\n",
    "\n",
    "# add `destination` as a required argument\n",
    "def arrival_time(destination, hours=51):\n",
    "  now = datetime.now()\n",
    "  arrival = now + timedelta(hours=hours)\n",
    "  return arrival.strftime(f\"{destination} Arrival: %A %H:%M\")"
   ]
  },
  {
   "cell_type": "code",
   "execution_count": null,
   "metadata": {},
   "outputs": [
    {
     "ename": "TypeError",
     "evalue": "arrival_time() missing 1 required positional argument: 'destination'",
     "output_type": "error",
     "traceback": [
      "\u001b[0;31m---------------------------------------------------------------------------\u001b[0m",
      "\u001b[0;31mTypeError\u001b[0m                                 Traceback (most recent call last)",
      "Cell \u001b[0;32mIn[38], line 2\u001b[0m\n\u001b[1;32m      1\u001b[0m \u001b[38;5;66;03m# call without argument, error raised\u001b[39;00m\n\u001b[0;32m----> 2\u001b[0m \u001b[43marrival_time\u001b[49m\u001b[43m(\u001b[49m\u001b[43m)\u001b[49m\n",
      "\u001b[0;31mTypeError\u001b[0m: arrival_time() missing 1 required positional argument: 'destination'"
     ]
    }
   ],
   "source": [
    "# call without argument, error raised\n",
    "arrival_time()"
   ]
  },
  {
   "cell_type": "code",
   "execution_count": null,
   "metadata": {},
   "outputs": [
    {
     "data": {
      "text/plain": [
       "'Moon Arrival: Friday 17:25'"
      ]
     },
     "execution_count": 40,
     "metadata": {},
     "output_type": "execute_result"
    }
   ],
   "source": [
    "# Use \"Moon\" as the value for destination to avoid the error \n",
    "arrival_time(\"Moon\")"
   ]
  },
  {
   "cell_type": "code",
   "execution_count": null,
   "metadata": {},
   "outputs": [
    {
     "data": {
      "text/plain": [
       "'Orbit Arrival: Wednesday 14:37'"
      ]
     },
     "execution_count": 46,
     "metadata": {},
     "output_type": "execute_result"
    }
   ],
   "source": [
    "# pass both arguments\n",
    "# with keyword\n",
    "arrival_time(\"Orbit\", hours=0.13)\n",
    "\n",
    "# without using keyword\n",
    "arrival_time(\"Orbit\", 0.13)"
   ]
  },
  {
   "cell_type": "markdown",
   "metadata": {},
   "source": [
    "## Use variable arguments in Python\n",
    "\n",
    "In Python, you can use any number of arguments and keyword arguments without declaring each one of them. This ability is useful when a function might get an unknown number of inputs.\n",
    "\n",
    "Arguments in functions are required. But when you're using variable arguments, the function allows any number of arguments (including 0) to be passed in. The syntax for using variable arguments is prefixing a single asterisk (*) before the argument's name.\n",
    "\n",
    "> It isn't required to call variable arguments args. You can use any valid variable name. Although it's common to see *args"
   ]
  },
  {
   "cell_type": "code",
   "execution_count": null,
   "metadata": {},
   "outputs": [
    {
     "name": "stdout",
     "output_type": "stream",
     "text": [
      "()\n",
      "('one', 'two')\n",
      "(None,)\n"
     ]
    }
   ],
   "source": [
    "def variable_length(*args):\n",
    "  print(args)\n",
    "\n",
    "variable_length()\n",
    "# ()\n",
    "\n",
    "variable_length(\"one\", \"two\")\n",
    "# ('one', 'two')\n",
    "\n",
    "variable_length(None)\n",
    "# (None,)"
   ]
  },
  {
   "cell_type": "code",
   "execution_count": null,
   "metadata": {},
   "outputs": [
    {
     "data": {
      "text/plain": [
       "'Total time to launch is 36 minutes'"
      ]
     },
     "execution_count": 54,
     "metadata": {},
     "output_type": "execute_result"
    }
   ],
   "source": [
    "# variable number of tasks, each takes different time to complete\n",
    "# calculate the total time to complete all tasks\n",
    "\n",
    "def sequence_time(*args):\n",
    "  total_minutes = sum(args)\n",
    "  if total_minutes < 60:\n",
    "    return f\"Total time to launch is {total_minutes} minutes\"\n",
    "  else:\n",
    "    return f\"Total time to launch is {total_minutes/60} hours\"\n",
    "\n",
    "sequence_time(4, 14, 18)"
   ]
  },
  {
   "cell_type": "code",
   "execution_count": null,
   "metadata": {},
   "outputs": [
    {
     "name": "stdout",
     "output_type": "stream",
     "text": [
      "{'tanks': 1, 'day': 'Wednesday', 'pilots': 3}\n",
      "<class 'dict'>\n"
     ]
    }
   ],
   "source": [
    "# Variable keyword arguments\n",
    "# a function to accept any number of keyword arguments, use double asterisks\n",
    "# the variable-length keyword arguments are assigned as a dictionary\n",
    "\n",
    "def variable_length(**kwargs):\n",
    "  print(kwargs)\n",
    "  print(type(kwargs))  # a dict\n",
    "\n",
    "variable_length(tanks=1, day=\"Wednesday\", pilots=3)\n",
    "# {'tanks': 1, 'day': 'Wednesday', 'pilots': 3}"
   ]
  },
  {
   "cell_type": "code",
   "execution_count": null,
   "metadata": {},
   "outputs": [
    {
     "name": "stdout",
     "output_type": "stream",
     "text": [
      "3 astronauts assigned for this mission:\n",
      "captain: Neil Armstrong\n",
      "pilot: Buzz Aldrin\n",
      "command_pilot: Michael Collins\n"
     ]
    }
   ],
   "source": [
    "# a function to print crew members with their roles\n",
    "def crew_members(**kwargs):\n",
    "  print(f\"{len(kwargs)} astronauts assigned for this mission:\")\n",
    "  for title, name in kwargs.items():\n",
    "    print(f\"{title}: {name}\")\n",
    "\n",
    "crew_members(captain=\"Neil Armstrong\", pilot=\"Buzz Aldrin\", command_pilot=\"Michael Collins\")\n"
   ]
  },
  {
   "cell_type": "code",
   "execution_count": null,
   "metadata": {},
   "outputs": [
    {
     "ename": "SyntaxError",
     "evalue": "keyword argument repeated (1710487701.py, line 2)",
     "output_type": "error",
     "traceback": [
      "\u001b[0;36m  Cell \u001b[0;32mIn[59], line 2\u001b[0;36m\u001b[0m\n\u001b[0;31m    crew_members(captain=\"Neil Armstrong\", pilot=\"Buzz Aldrin\", pilot=\"Michael Collins\")\u001b[0m\n\u001b[0m                                                                ^\u001b[0m\n\u001b[0;31mSyntaxError\u001b[0m\u001b[0;31m:\u001b[0m keyword argument repeated\n"
     ]
    }
   ],
   "source": [
    "# keyword argument cannot be repeated\n",
    "crew_members(captain=\"Neil Armstrong\", pilot=\"Buzz Aldrin\", pilot=\"Michael Collins\")"
   ]
  },
  {
   "cell_type": "markdown",
   "metadata": {},
   "source": [
    "# Exercise - Work with keyword arguments\n",
    "\n",
    "Create an updated fuel report function:\n",
    "\n",
    "> Create a new function named `fuel_report`. The function will accept a keyword arguments parameter named `fuel_tanks`. Add the code to loop through the entries provided to generate the following output, where name is the name of the keyword argument and value is the value:\n",
    "```\n",
    "name: value\n",
    "name: value\n",
    "```"
   ]
  },
  {
   "cell_type": "code",
   "execution_count": 65,
   "metadata": {},
   "outputs": [
    {
     "name": "stdout",
     "output_type": "stream",
     "text": [
      "main: 50\n",
      "external: 100\n",
      "emergency: 60\n"
     ]
    }
   ],
   "source": [
    "def fuel_report(**fuel_tanks):\n",
    "  for name, value in fuel_tanks.items():\n",
    "    print(f'{name}: {value}')\n",
    "\n",
    "fuel_report(main=50, external=100, emergency=60)"
   ]
  }
 ],
 "metadata": {
  "kernelspec": {
   "display_name": ".venv",
   "language": "python",
   "name": "python3"
  },
  "language_info": {
   "codemirror_mode": {
    "name": "ipython",
    "version": 3
   },
   "file_extension": ".py",
   "mimetype": "text/x-python",
   "name": "python",
   "nbconvert_exporter": "python",
   "pygments_lexer": "ipython3",
   "version": "3.8.18"
  }
 },
 "nbformat": 4,
 "nbformat_minor": 2
}
