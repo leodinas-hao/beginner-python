{
 "cells": [
  {
   "cell_type": "markdown",
   "metadata": {},
   "source": [
    "# Python error handling\n",
    "\n",
    "## What will I learn?\n",
    "\n",
    "By the end of this module, you'll be able to:\n",
    "- Read and use error output from exceptions.\n",
    "- Properly handle exceptions.\n",
    "- Raise exceptions with useful error messages.\n",
    "- Use exceptions to control a program's flow.\n",
    "\n",
    "## What is the main objective?\n",
    "\n",
    "In this module, you'll learn about using exception output for debugging, how to catch and raise exceptions, and how to affect a program's logic when exceptions happen."
   ]
  },
  {
   "cell_type": "code",
   "execution_count": 1,
   "metadata": {},
   "outputs": [
    {
     "ename": "FileNotFoundError",
     "evalue": "[Errno 2] No such file or directory: '/path/to/mars.jpg'",
     "output_type": "error",
     "traceback": [
      "\u001b[0;31m---------------------------------------------------------------------------\u001b[0m",
      "\u001b[0;31mFileNotFoundError\u001b[0m                         Traceback (most recent call last)",
      "Cell \u001b[0;32mIn[1], line 4\u001b[0m\n\u001b[1;32m      1\u001b[0m \u001b[38;5;66;03m# Tracebacks\u001b[39;00m\n\u001b[1;32m      2\u001b[0m \u001b[38;5;66;03m# when there is an unhandled error, a traceback appears as the output\u001b[39;00m\n\u001b[0;32m----> 4\u001b[0m \u001b[38;5;28;43mopen\u001b[39;49m\u001b[43m(\u001b[49m\u001b[38;5;124;43m\"\u001b[39;49m\u001b[38;5;124;43m/path/to/mars.jpg\u001b[39;49m\u001b[38;5;124;43m\"\u001b[39;49m\u001b[43m)\u001b[49m\n",
      "File \u001b[0;32m~/workspace/beginner-python/.venv/lib/python3.8/site-packages/IPython/core/interactiveshell.py:284\u001b[0m, in \u001b[0;36m_modified_open\u001b[0;34m(file, *args, **kwargs)\u001b[0m\n\u001b[1;32m    277\u001b[0m \u001b[38;5;28;01mif\u001b[39;00m file \u001b[38;5;129;01min\u001b[39;00m {\u001b[38;5;241m0\u001b[39m, \u001b[38;5;241m1\u001b[39m, \u001b[38;5;241m2\u001b[39m}:\n\u001b[1;32m    278\u001b[0m     \u001b[38;5;28;01mraise\u001b[39;00m \u001b[38;5;167;01mValueError\u001b[39;00m(\n\u001b[1;32m    279\u001b[0m         \u001b[38;5;124mf\u001b[39m\u001b[38;5;124m\"\u001b[39m\u001b[38;5;124mIPython won\u001b[39m\u001b[38;5;124m'\u001b[39m\u001b[38;5;124mt let you open fd=\u001b[39m\u001b[38;5;132;01m{\u001b[39;00mfile\u001b[38;5;132;01m}\u001b[39;00m\u001b[38;5;124m by default \u001b[39m\u001b[38;5;124m\"\u001b[39m\n\u001b[1;32m    280\u001b[0m         \u001b[38;5;124m\"\u001b[39m\u001b[38;5;124mas it is likely to crash IPython. If you know what you are doing, \u001b[39m\u001b[38;5;124m\"\u001b[39m\n\u001b[1;32m    281\u001b[0m         \u001b[38;5;124m\"\u001b[39m\u001b[38;5;124myou can use builtins\u001b[39m\u001b[38;5;124m'\u001b[39m\u001b[38;5;124m open.\u001b[39m\u001b[38;5;124m\"\u001b[39m\n\u001b[1;32m    282\u001b[0m     )\n\u001b[0;32m--> 284\u001b[0m \u001b[38;5;28;01mreturn\u001b[39;00m \u001b[43mio_open\u001b[49m\u001b[43m(\u001b[49m\u001b[43mfile\u001b[49m\u001b[43m,\u001b[49m\u001b[43m \u001b[49m\u001b[38;5;241;43m*\u001b[39;49m\u001b[43margs\u001b[49m\u001b[43m,\u001b[49m\u001b[43m \u001b[49m\u001b[38;5;241;43m*\u001b[39;49m\u001b[38;5;241;43m*\u001b[39;49m\u001b[43mkwargs\u001b[49m\u001b[43m)\u001b[49m\n",
      "\u001b[0;31mFileNotFoundError\u001b[0m: [Errno 2] No such file or directory: '/path/to/mars.jpg'"
     ]
    }
   ],
   "source": [
    "# Tracebacks\n",
    "# when there is an unhandled error, a traceback appears as the output\n",
    "\n",
    "open(\"/path/to/mars.jpg\")  # error appears when trying to open an image that not exists\n",
    "\n",
    "# traceback shows\n",
    "# - All file paths involved, for every call to every function.\n",
    "# - Line numbers associated with every file path.\n",
    "# - The names of functions, methods, or classes involved in producing an exception.\n",
    "# - The name of the exception that was raised."
   ]
  },
  {
   "cell_type": "markdown",
   "metadata": {},
   "source": [
    "## run the following in a .py file to show the tracebacks\n",
    "\n",
    "```sh\n",
    "python session10/tracebacks.py\n",
    "```"
   ]
  },
  {
   "cell_type": "code",
   "execution_count": 2,
   "metadata": {},
   "outputs": [
    {
     "name": "stdout",
     "output_type": "stream",
     "text": [
      "Couldn't find the config.txt file!\n"
     ]
    }
   ],
   "source": [
    "# handle exceptions with try and except blocks\n",
    "\n",
    "# `try` keyword, you add code that has the potential to cause an exception. \n",
    "# Next, you add the `except` keyword along with the possible exception, \n",
    "# followed by any code that needs to run when that condition happens\n",
    "try:\n",
    "  open('config.txt')\n",
    "except FileNotFoundError:\n",
    "  print(\"Couldn't find the config.txt file!\")\n"
   ]
  },
  {
   "cell_type": "markdown",
   "metadata": {},
   "source": [
    "> Although a file that doesn't exist is common, it isn't the only error you might find. Invalid file permissions can prevent reading a file, even if the file exists\n",
    "\n",
    "```sh\n",
    "# Example showing `IsADirectoryError` error\n",
    "python session10/config.py\n",
    "\n",
    "# fix the issue by adding another except\n",
    "python session10/config2.py\n",
    "\n",
    "# handle errors in group by using parentheses in the except line\n",
    "python session10/config3.py\n",
    "\n",
    "# access the error attributes\n",
    "python session10/config4.py\n",
    "```"
   ]
  },
  {
   "cell_type": "markdown",
   "metadata": {},
   "source": [
    "# Exercise - Handle exceptions\n",
    "\n",
    "## Loading configuration\n",
    "\n",
    "imagine you are creating a program which will read configuration information from another source, such as a file. Because the contents are stored external to your program, there may be unexpected formatting or other mistakes.\n",
    "\n",
    "Start by creating a function which opens and reads the contents of the configuration file. Add a parameter to the function named `path` for the path to the configuration file.\n",
    "\n",
    "Use below variable to simulate loading the configuration information\n",
    "\n",
    "```py\n",
    "loaded_config = \"\"\"# Rocket Ship Configuration File!\n",
    "fuel_tanks=4\n",
    "oxygen_tanks=3\n",
    "initial_propulsion_level=84\n",
    "$ End of file\"\"\"\n",
    "```\n",
    "\n",
    "## Parse the configuration information\n",
    "\n",
    "- load any key/value information. The expected format is `key=value`. use `split(\"=\")`\n",
    "- handle any errors `ValueError` if the config format is not met\n"
   ]
  },
  {
   "cell_type": "code",
   "execution_count": 1,
   "metadata": {},
   "outputs": [
    {
     "name": "stdout",
     "output_type": "stream",
     "text": [
      "Unable to parse # Rocket Ship Configuration File!\n",
      "Unable to parse $ End of file\n",
      "{'fuel_tanks': '4', 'oxygen_tanks': '3', 'initial_propulsion_level': '84'}\n"
     ]
    }
   ],
   "source": [
    "# simulate loaded config\n",
    "loaded_config = \"\"\"# Rocket Ship Configuration File!\n",
    "fuel_tanks=4\n",
    "oxygen_tanks=3\n",
    "initial_propulsion_level=84\n",
    "$ End of file\"\"\"\n",
    "\n",
    "# parsing config\n",
    "parsed_config = {}\n",
    "# split string by new line\n",
    "for line in loaded_config.split('\\n'):\n",
    "  try:  # try-except block\n",
    "    # split line into key and value\n",
    "    key, value = line.split('=')\n",
    "    parsed_config[key] = value\n",
    "  except ValueError:\n",
    "    print(f'Unable to parse {line}')\n",
    "\n",
    "# print the config\n",
    "print(parsed_config)"
   ]
  },
  {
   "cell_type": "code",
   "execution_count": 2,
   "metadata": {},
   "outputs": [
    {
     "data": {
      "text/plain": [
       "'Total water left after 2 days is: -10 liters'"
      ]
     },
     "execution_count": 2,
     "metadata": {},
     "output_type": "execute_result"
    }
   ],
   "source": [
    "# raise exceptions\n",
    "\n",
    "# Example function: astronauts limit their water usage to about 11 liters per day. \n",
    "# Depending on the number of astronauts, the below function can calculate how much water will be left after a day or more:\n",
    "def water_left(astronauts, water_left, days_left):\n",
    "  daily_usage = astronauts * 11\n",
    "  total_usage = daily_usage * days_left\n",
    "  total_water_left = water_left - total_usage\n",
    "  return f\"Total water left after {days_left} days is: {total_water_left} liters\"\n",
    "\n",
    "# Try it out with five astronauts, 100 liters of water left, and two days to go:\n",
    "water_left(5, 100, 2)\n",
    "\n",
    "# a deficit in liters should be an error"
   ]
  },
  {
   "cell_type": "code",
   "execution_count": 3,
   "metadata": {},
   "outputs": [
    {
     "ename": "RuntimeError",
     "evalue": "There is not enough water for 5 astronauts after 2 days!",
     "output_type": "error",
     "traceback": [
      "\u001b[0;31m---------------------------------------------------------------------------\u001b[0m",
      "\u001b[0;31mRuntimeError\u001b[0m                              Traceback (most recent call last)",
      "Cell \u001b[0;32mIn[3], line 11\u001b[0m\n\u001b[1;32m      8\u001b[0m   \u001b[38;5;28;01mreturn\u001b[39;00m \u001b[38;5;124mf\u001b[39m\u001b[38;5;124m\"\u001b[39m\u001b[38;5;124mTotal water left after \u001b[39m\u001b[38;5;132;01m{\u001b[39;00mdays_left\u001b[38;5;132;01m}\u001b[39;00m\u001b[38;5;124m days is: \u001b[39m\u001b[38;5;132;01m{\u001b[39;00mtotal_water_left\u001b[38;5;132;01m}\u001b[39;00m\u001b[38;5;124m liters\u001b[39m\u001b[38;5;124m\"\u001b[39m\n\u001b[1;32m     10\u001b[0m \u001b[38;5;66;03m# Try it out with five astronauts, 100 liters of water left, and two days to go:\u001b[39;00m\n\u001b[0;32m---> 11\u001b[0m \u001b[43mwater_left\u001b[49m\u001b[43m(\u001b[49m\u001b[38;5;241;43m5\u001b[39;49m\u001b[43m,\u001b[49m\u001b[43m \u001b[49m\u001b[38;5;241;43m100\u001b[39;49m\u001b[43m,\u001b[49m\u001b[43m \u001b[49m\u001b[38;5;241;43m2\u001b[39;49m\u001b[43m)\u001b[49m\n\u001b[1;32m     13\u001b[0m \u001b[38;5;66;03m# a deficit in liters should be an error\u001b[39;00m\n",
      "Cell \u001b[0;32mIn[3], line 7\u001b[0m, in \u001b[0;36mwater_left\u001b[0;34m(astronauts, water_left, days_left)\u001b[0m\n\u001b[1;32m      5\u001b[0m total_water_left \u001b[38;5;241m=\u001b[39m water_left \u001b[38;5;241m-\u001b[39m total_usage\n\u001b[1;32m      6\u001b[0m \u001b[38;5;28;01mif\u001b[39;00m total_water_left \u001b[38;5;241m<\u001b[39m \u001b[38;5;241m0\u001b[39m:\n\u001b[0;32m----> 7\u001b[0m   \u001b[38;5;28;01mraise\u001b[39;00m \u001b[38;5;167;01mRuntimeError\u001b[39;00m(\u001b[38;5;124mf\u001b[39m\u001b[38;5;124m\"\u001b[39m\u001b[38;5;124mThere is not enough water for \u001b[39m\u001b[38;5;132;01m{\u001b[39;00mastronauts\u001b[38;5;132;01m}\u001b[39;00m\u001b[38;5;124m astronauts after \u001b[39m\u001b[38;5;132;01m{\u001b[39;00mdays_left\u001b[38;5;132;01m}\u001b[39;00m\u001b[38;5;124m days!\u001b[39m\u001b[38;5;124m\"\u001b[39m)\n\u001b[1;32m      8\u001b[0m \u001b[38;5;28;01mreturn\u001b[39;00m \u001b[38;5;124mf\u001b[39m\u001b[38;5;124m\"\u001b[39m\u001b[38;5;124mTotal water left after \u001b[39m\u001b[38;5;132;01m{\u001b[39;00mdays_left\u001b[38;5;132;01m}\u001b[39;00m\u001b[38;5;124m days is: \u001b[39m\u001b[38;5;132;01m{\u001b[39;00mtotal_water_left\u001b[38;5;132;01m}\u001b[39;00m\u001b[38;5;124m liters\u001b[39m\u001b[38;5;124m\"\u001b[39m\n",
      "\u001b[0;31mRuntimeError\u001b[0m: There is not enough water for 5 astronauts after 2 days!"
     ]
    }
   ],
   "source": [
    "# function which raises error when a deficit in water liters\n",
    "def water_left(astronauts, water_left, days_left):\n",
    "  daily_usage = astronauts * 11\n",
    "  total_usage = daily_usage * days_left\n",
    "  total_water_left = water_left - total_usage\n",
    "  if total_water_left < 0:\n",
    "    raise RuntimeError(f\"There is not enough water for {astronauts} astronauts after {days_left} days!\")\n",
    "  return f\"Total water left after {days_left} days is: {total_water_left} liters\"\n",
    "\n",
    "# Try it out with five astronauts, 100 liters of water left, and two days to go:\n",
    "water_left(5, 100, 2)\n",
    "\n",
    "# a deficit in liters should be an error"
   ]
  },
  {
   "cell_type": "code",
   "execution_count": 4,
   "metadata": {},
   "outputs": [
    {
     "ename": "TypeError",
     "evalue": "All arguments must be of type int, but received: '3'",
     "output_type": "error",
     "traceback": [
      "\u001b[0;31m---------------------------------------------------------------------------\u001b[0m",
      "\u001b[0;31mTypeError\u001b[0m                                 Traceback (most recent call last)",
      "Cell \u001b[0;32mIn[4], line 6\u001b[0m, in \u001b[0;36mwater_left\u001b[0;34m(astronauts, water_left, days_left)\u001b[0m\n\u001b[1;32m      4\u001b[0m \u001b[38;5;28;01mtry\u001b[39;00m:\n\u001b[1;32m      5\u001b[0m   \u001b[38;5;66;03m# If argument is an int, the following operation will work\u001b[39;00m\n\u001b[0;32m----> 6\u001b[0m   \u001b[43margument\u001b[49m\u001b[43m \u001b[49m\u001b[38;5;241;43m/\u001b[39;49m\u001b[43m \u001b[49m\u001b[38;5;241;43m10\u001b[39;49m\n\u001b[1;32m      7\u001b[0m \u001b[38;5;28;01mexcept\u001b[39;00m \u001b[38;5;167;01mTypeError\u001b[39;00m:\n\u001b[1;32m      8\u001b[0m   \u001b[38;5;66;03m# TypeError will be raised only if it isn't the right type \u001b[39;00m\n\u001b[1;32m      9\u001b[0m   \u001b[38;5;66;03m# Raise the same exception but with a better error message\u001b[39;00m\n",
      "\u001b[0;31mTypeError\u001b[0m: unsupported operand type(s) for /: 'str' and 'int'",
      "\nDuring handling of the above exception, another exception occurred:\n",
      "\u001b[0;31mTypeError\u001b[0m                                 Traceback (most recent call last)",
      "Cell \u001b[0;32mIn[4], line 19\u001b[0m\n\u001b[1;32m     16\u001b[0m   \u001b[38;5;28;01mreturn\u001b[39;00m \u001b[38;5;124mf\u001b[39m\u001b[38;5;124m\"\u001b[39m\u001b[38;5;124mTotal water left after \u001b[39m\u001b[38;5;132;01m{\u001b[39;00mdays_left\u001b[38;5;132;01m}\u001b[39;00m\u001b[38;5;124m days is: \u001b[39m\u001b[38;5;132;01m{\u001b[39;00mtotal_water_left\u001b[38;5;132;01m}\u001b[39;00m\u001b[38;5;124m liters\u001b[39m\u001b[38;5;124m\"\u001b[39m\n\u001b[1;32m     18\u001b[0m \u001b[38;5;66;03m# type error handled\u001b[39;00m\n\u001b[0;32m---> 19\u001b[0m \u001b[43mwater_left\u001b[49m\u001b[43m(\u001b[49m\u001b[38;5;124;43m\"\u001b[39;49m\u001b[38;5;124;43m3\u001b[39;49m\u001b[38;5;124;43m\"\u001b[39;49m\u001b[43m,\u001b[49m\u001b[43m \u001b[49m\u001b[38;5;124;43m\"\u001b[39;49m\u001b[38;5;124;43m200\u001b[39;49m\u001b[38;5;124;43m\"\u001b[39;49m\u001b[43m,\u001b[49m\u001b[43m \u001b[49m\u001b[38;5;28;43;01mNone\u001b[39;49;00m\u001b[43m)\u001b[49m\n",
      "Cell \u001b[0;32mIn[4], line 10\u001b[0m, in \u001b[0;36mwater_left\u001b[0;34m(astronauts, water_left, days_left)\u001b[0m\n\u001b[1;32m      6\u001b[0m     argument \u001b[38;5;241m/\u001b[39m \u001b[38;5;241m10\u001b[39m\n\u001b[1;32m      7\u001b[0m   \u001b[38;5;28;01mexcept\u001b[39;00m \u001b[38;5;167;01mTypeError\u001b[39;00m:\n\u001b[1;32m      8\u001b[0m     \u001b[38;5;66;03m# TypeError will be raised only if it isn't the right type \u001b[39;00m\n\u001b[1;32m      9\u001b[0m     \u001b[38;5;66;03m# Raise the same exception but with a better error message\u001b[39;00m\n\u001b[0;32m---> 10\u001b[0m     \u001b[38;5;28;01mraise\u001b[39;00m \u001b[38;5;167;01mTypeError\u001b[39;00m(\u001b[38;5;124mf\u001b[39m\u001b[38;5;124m\"\u001b[39m\u001b[38;5;124mAll arguments must be of type int, but received: \u001b[39m\u001b[38;5;124m'\u001b[39m\u001b[38;5;132;01m{\u001b[39;00margument\u001b[38;5;132;01m}\u001b[39;00m\u001b[38;5;124m'\u001b[39m\u001b[38;5;124m\"\u001b[39m)\n\u001b[1;32m     11\u001b[0m daily_usage \u001b[38;5;241m=\u001b[39m astronauts \u001b[38;5;241m*\u001b[39m \u001b[38;5;241m11\u001b[39m\n\u001b[1;32m     12\u001b[0m total_usage \u001b[38;5;241m=\u001b[39m daily_usage \u001b[38;5;241m*\u001b[39m days_left\n",
      "\u001b[0;31mTypeError\u001b[0m: All arguments must be of type int, but received: '3'"
     ]
    }
   ],
   "source": [
    "# handle additional error type: ensure all function arguments are `int`\n",
    "def water_left(astronauts, water_left, days_left):\n",
    "  for argument in [astronauts, water_left, days_left]:\n",
    "    try:\n",
    "      # If argument is an int, the following operation will work\n",
    "      argument / 10\n",
    "    except TypeError:\n",
    "      # TypeError will be raised only if it isn't the right type \n",
    "      # Raise the same exception but with a better error message\n",
    "      raise TypeError(f\"All arguments must be of type int, but received: '{argument}'\")\n",
    "  daily_usage = astronauts * 11\n",
    "  total_usage = daily_usage * days_left\n",
    "  total_water_left = water_left - total_usage\n",
    "  if total_water_left < 0:\n",
    "    raise RuntimeError(f\"There is not enough water for {astronauts} astronauts after {days_left} days!\")\n",
    "  return f\"Total water left after {days_left} days is: {total_water_left} liters\"\n",
    "\n",
    "# type error handled\n",
    "water_left(\"3\", \"200\", None)"
   ]
  },
  {
   "cell_type": "markdown",
   "metadata": {},
   "source": [
    "# Exercise - Work with exceptions\n",
    "\n",
    "- Creating a utility to convert strings to boolean values\n",
    "  - true values: \"yes\", \"y\"\n",
    "  - false values: \"no\", \"n\"\n",
    "- Creating a utility to convert strings to boolean values\n",
    "- raise error when invalid/unsupported string provided"
   ]
  },
  {
   "cell_type": "code",
   "execution_count": 7,
   "metadata": {},
   "outputs": [
    {
     "data": {
      "text/plain": [
       "True"
      ]
     },
     "execution_count": 7,
     "metadata": {},
     "output_type": "execute_result"
    }
   ],
   "source": [
    "# lookup utility\n",
    "true_values = ['yes', 'y']\n",
    "false_values = ['no', 'n']\n",
    "\n",
    "# convert string to boolean\n",
    "def str_to_bool(value):\n",
    "  value = value.lower()\n",
    "  if value in true_values:\n",
    "    return True\n",
    "  elif value in false_values:\n",
    "    return False\n",
    "  else:\n",
    "    # raise error when unknown string provided\n",
    "    raise ValueError('Invalid entry')\n",
    "\n",
    "# test the function\n",
    "str_to_bool(\"y\")\n",
    "# str_to_bool(\"n\")\n",
    "# str_to_bool(\"something\")"
   ]
  }
 ],
 "metadata": {
  "kernelspec": {
   "display_name": ".venv",
   "language": "python",
   "name": "python3"
  },
  "language_info": {
   "codemirror_mode": {
    "name": "ipython",
    "version": 3
   },
   "file_extension": ".py",
   "mimetype": "text/x-python",
   "name": "python",
   "nbconvert_exporter": "python",
   "pygments_lexer": "ipython3",
   "version": "3.8.19"
  }
 },
 "nbformat": 4,
 "nbformat_minor": 2
}
