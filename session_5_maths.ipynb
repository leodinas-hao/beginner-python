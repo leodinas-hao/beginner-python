{
 "cells": [
  {
   "cell_type": "markdown",
   "metadata": {},
   "source": [
    "# Use mathematical operations in Python \n",
    "\n",
    "\n",
    "## What will you learn?\n",
    "In this module, you'll explore the core mathematic capabilities of Python. You'll learn:\n",
    "\n",
    "- The mathematic operators available in Python.\n",
    "- The order of operations.\n",
    "- How to convert strings to numbers.\n",
    "\n",
    "## What is the main objective?\n",
    "Build on the power of math operators when you create a Python program."
   ]
  },
  {
   "cell_type": "code",
   "execution_count": 18,
   "metadata": {},
   "outputs": [
    {
     "name": "stdout",
     "output_type": "stream",
     "text": [
      "42\n"
     ]
    }
   ],
   "source": [
    "# `+` addition operator\n",
    "\n",
    "total = 30 + 12\n",
    "print(total)"
   ]
  },
  {
   "cell_type": "code",
   "execution_count": 19,
   "metadata": {},
   "outputs": [
    {
     "name": "stdout",
     "output_type": "stream",
     "text": [
      "18\n"
     ]
    }
   ],
   "source": [
    "# `-` subtraction operator\n",
    "\n",
    "difference = 30 - 12\n",
    "print(difference)"
   ]
  },
  {
   "cell_type": "code",
   "execution_count": 20,
   "metadata": {},
   "outputs": [
    {
     "name": "stdout",
     "output_type": "stream",
     "text": [
      "360\n"
     ]
    }
   ],
   "source": [
    "# `*` multiplication operator\n",
    "\n",
    "product = 30 * 12\n",
    "print(product)"
   ]
  },
  {
   "cell_type": "code",
   "execution_count": 21,
   "metadata": {},
   "outputs": [
    {
     "name": "stdout",
     "output_type": "stream",
     "text": [
      "2.5\n"
     ]
    }
   ],
   "source": [
    "# `/` division operator\n",
    "\n",
    "quotient = 30 / 12\n",
    "print(quotient)"
   ]
  },
  {
   "cell_type": "markdown",
   "metadata": {},
   "source": [
    "# Work with division\n",
    "\n",
    "## Imagine you need to convert a number of seconds (i.e. 1042 seconds) into minutes and seconds for display.\n",
    "\n",
    "The first step is to determine the number of minutes in `1042` seconds. \n",
    "With `60` seconds in a minute, you can divide by `60` and get an answer of `17.3666667`. \n",
    "The number you're interested in is simply `17`. You always want to round down, by using what's known as floor division. \n",
    "To perform floor division in Python, you use `//`."
   ]
  },
  {
   "cell_type": "code",
   "execution_count": 22,
   "metadata": {},
   "outputs": [
    {
     "name": "stdout",
     "output_type": "stream",
     "text": [
      "17\n"
     ]
    }
   ],
   "source": [
    "seconds = 1042\n",
    "display_minutes = 1042 // 60\n",
    "print(display_minutes)"
   ]
  },
  {
   "cell_type": "markdown",
   "metadata": {},
   "source": [
    "The next step is to determine the number of seconds. \n",
    "This number is the remainder of `1042` if you divide by `60`. \n",
    "You can find the remainder by using the modulo operator, which is `%` in Python. \n",
    "The remainder of `1042 / 60` is `22`, which is what the modulo operator will provide."
   ]
  },
  {
   "cell_type": "code",
   "execution_count": 23,
   "metadata": {},
   "outputs": [
    {
     "name": "stdout",
     "output_type": "stream",
     "text": [
      "1042 is equivalent to 17 minutes and 22 seconds\n"
     ]
    }
   ],
   "source": [
    "seconds = 1042\n",
    "display_minutes = 1042 // 60\n",
    "display_seconds = 1042 % 60\n",
    "\n",
    "# print(display_minutes)\n",
    "# print(display_seconds)\n",
    "print(f'{seconds} is equivalent to {display_minutes} minutes and {display_seconds} seconds')"
   ]
  },
  {
   "cell_type": "markdown",
   "metadata": {},
   "source": [
    "# Order of operation\n",
    "\n",
    "Python honors the order of operation for math. The order of operation dictates that expressions should be evaluated in the following order:\n",
    "\n",
    "1. Parentheses\n",
    "2. Exponents\n",
    "3. Multiplication and division\n",
    "4. Addition and subtraction\n",
    "\n",
    "Notice how parentheses are evaluated before any other operations. \n",
    "Using parentheses allows you to ensure code is run in a predictable manner, and your code becomes easier to read and maintain. \n",
    "As a result, it's a best practice to use parentheses even if order of operation would evaluate the same way without them. \n",
    "In the following two lines of code, the second one is more understandable because the parentheses give a clear indication of what operation will be performed first."
   ]
  },
  {
   "cell_type": "code",
   "execution_count": 24,
   "metadata": {},
   "outputs": [
    {
     "name": "stdout",
     "output_type": "stream",
     "text": [
      "1084\n",
      "1084\n"
     ]
    }
   ],
   "source": [
    "result_1 = 1032 + 26 * 2\n",
    "print(result_1)\n",
    "\n",
    "result_2 = 1032 + (26 * 2)\n",
    "print(result_2)"
   ]
  },
  {
   "cell_type": "markdown",
   "metadata": {},
   "source": [
    "# Exercise - Use arithmetic operators\n",
    "\n",
    "Let's explore how we can create a program that can calculate the distance between two planets. We'll start by using two planet distances: Earth (149,597,870 km) and Jupiter (778,547,200 km). The common point: the sun.\n",
    "\n",
    "The output: display the distance in `km` and `mi`. For an approximate result, divide the length value (km) by `1.609344` to get miles (mi)"
   ]
  },
  {
   "cell_type": "code",
   "execution_count": 25,
   "metadata": {},
   "outputs": [
    {
     "name": "stdout",
     "output_type": "stream",
     "text": [
      "628949330\n",
      "390810995.0389724\n"
     ]
    }
   ],
   "source": [
    "# assign variables in km\n",
    "first_planet = 149597870\n",
    "second_planet = 778547200\n",
    "\n",
    "# calculate distance in km\n",
    "distance_km = second_planet - first_planet\n",
    "print(distance_km)\n",
    "\n",
    "# convert to miles\n",
    "distance_mi = distance_km / 1.609344\n",
    "print(distance_mi)"
   ]
  },
  {
   "cell_type": "code",
   "execution_count": 26,
   "metadata": {},
   "outputs": [
    {
     "name": "stdout",
     "output_type": "stream",
     "text": [
      "215\n",
      "215.3\n"
     ]
    }
   ],
   "source": [
    "# convert strings to numbers\n",
    "\n",
    "# use \"int\" to convert to an integer\n",
    "demo_int = int('215')\n",
    "print(demo_int)\n",
    "\n",
    "# use \"float\" to convert to a floating point number\n",
    "demo_float = float('215.3')\n",
    "print(demo_float)"
   ]
  },
  {
   "cell_type": "code",
   "execution_count": 27,
   "metadata": {},
   "outputs": [
    {
     "name": "stdout",
     "output_type": "stream",
     "text": [
      "23\n",
      "-23\n",
      "23\n",
      "23\n"
     ]
    }
   ],
   "source": [
    "# absolute values\n",
    "print(39 - 16)\n",
    "print(16 - 39)\n",
    "\n",
    "# use abs()\n",
    "print(abs(39 - 16))\n",
    "print(abs(16 - 39))"
   ]
  },
  {
   "cell_type": "code",
   "execution_count": 28,
   "metadata": {},
   "outputs": [
    {
     "name": "stdout",
     "output_type": "stream",
     "text": [
      "1\n",
      "2\n",
      "2\n",
      "3\n"
     ]
    }
   ],
   "source": [
    "# Rounding\n",
    "\n",
    "# use round(): \n",
    "# Round up to the nearest integer if the decimal value is greater than .5, or \n",
    "# Round down if it's less than .5\n",
    "# If the decimal value is equal to .5, the function rounds up or down to the nearest even integer.\n",
    "\n",
    "print(round(1.4))\n",
    "print(round(1.5))\n",
    "print(round(2.5))\n",
    "print(round(2.6))"
   ]
  },
  {
   "cell_type": "code",
   "execution_count": 29,
   "metadata": {},
   "outputs": [
    {
     "name": "stdout",
     "output_type": "stream",
     "text": [
      "13\n",
      "12\n"
     ]
    }
   ],
   "source": [
    "# math library\n",
    "\n",
    "from math import ceil, floor\n",
    "\n",
    "# ceil()\n",
    "round_up = ceil(12.5)\n",
    "print(round_up)\n",
    "\n",
    "# floor()\n",
    "round_down = floor(12.5)\n",
    "print(round_down)"
   ]
  },
  {
   "cell_type": "markdown",
   "metadata": {},
   "source": [
    "# Exercise - Convert strings to numbers and use absolute values\n",
    "\n",
    "To create our application, we want to read the distance from the sun for two planets, and then display the distance between the planets. We'll do this by using `input` to read the values, `int` to convert to integer, and then `abs` to convert the result into its absolute value."
   ]
  },
  {
   "cell_type": "code",
   "execution_count": 30,
   "metadata": {},
   "outputs": [
    {
     "name": "stdout",
     "output_type": "stream",
     "text": [
      "78300000\n"
     ]
    }
   ],
   "source": [
    "# get inputs\n",
    "first_planet_input = input('Enter the distance from the sun for the first planet in km')\n",
    "second_planet_input = input('Enter the distance from the sun for the second planet in km')\n",
    "\n",
    "# convert to int\n",
    "first_planet = int(first_planet_input)\n",
    "second_planet = int(second_planet_input)\n",
    "\n",
    "# calculation & convert\n",
    "distance_km = second_planet - first_planet\n",
    "print(abs(distance_km))"
   ]
  }
 ],
 "metadata": {
  "kernelspec": {
   "display_name": ".venv",
   "language": "python",
   "name": "python3"
  },
  "language_info": {
   "codemirror_mode": {
    "name": "ipython",
    "version": 3
   },
   "file_extension": ".py",
   "mimetype": "text/x-python",
   "name": "python",
   "nbconvert_exporter": "python",
   "pygments_lexer": "ipython3",
   "version": "3.8.18"
  }
 },
 "nbformat": 4,
 "nbformat_minor": 2
}
