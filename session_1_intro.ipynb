{
 "cells": [
  {
   "cell_type": "markdown",
   "metadata": {},
   "source": [
    "# Introduction\n",
    "\n",
    "Python is one of the most popular and fastest growing programming languages in the world. \n",
    "It's used for all sorts of tasks, including web programming and data analysis, and it has emerged as the language to learn for machine learning. \n",
    "That popularity means Python developers are in demand, and Python programming jobs can be lucrative.\n",
    "\n",
    "The above-mentioned reasons are why it might be a good idea for you to learn how to program in Python. \n",
    "This module will provide an introduction to using Python to build an app, which can be a starting point to becoming a Python programmer.\n",
    "\n",
    "# Learning objectives\n",
    "\n",
    "In this module, you will:\n",
    "\n",
    "- Explore the choices available to run Python apps\n",
    "- Use the Python interpreter to execute statements and scripts\n",
    "- Learn how to declare variables\n",
    "- Build a simple Python app that takes input and produces output\n",
    "\n",
    "\n",
    "# Prerequisites\n",
    "\n",
    "- [Install Python](https://www.digitalocean.com/community/tutorials/install-python-windows-10)"
   ]
  },
  {
   "cell_type": "markdown",
   "metadata": {},
   "source": [
    "# What is Python?\n",
    "\n",
    "Python is one of the most popular programming languages in the world. Created in the early 1990s, Python can be employed for a wide range of uses, from automating repetitive tasks and writing web apps to building machine learning models and implementing neural networks. Researchers, mathematicians, and data scientists in particular like Python because of its rich and easy to understand syntax and the wide range of open-source packages available. Packages are shared code libraries that are freely available for anyone to use.\n",
    "\n",
    "Python has a simple, easy to learn syntax, which emphasizes readability. Applications written in Python can run on almost any computer, including those running Windows, macOS, and popular distributions of Linux. Furthermore, the ecosystem contains a rich set of development tools for writing, debugging, and publishing Python applications.\n",
    "\n",
    "Finally, Python is supported by an active user community that is eager to help new programmers learn the Pythonic way, where you don't just get the syntax right, but use the language the way it was intended.\n",
    "\n",
    "# Running Python code\n",
    "Python is an **interpreted** language, which reduces the edit-test-debug cycle because there's no compilation step required. In order to run Python apps, you need a runtime environment/interpreter to execute the code.\n",
    "\n",
    "Most of the runtime environments support two ways to execute Python code:\n",
    "\n",
    "**Interactive mode**: In this mode, each command you type is interpreted and executed immediately, and you see the results each time you press ENTER. The interactive mode is the default mode if you don't pass a filename to the interpreter.\n",
    "**Script mode**: In script mode, you put a set of Python statements into a text file with a .py extension. You then run the python interpreter and point it at the file. The program is executed line by line, and the output is displayed. There's no compilation step, as shown in the following diagram:"
   ]
  },
  {
   "cell_type": "markdown",
   "metadata": {},
   "source": [
    "# Use the REPL\n",
    "\n",
    "Sometimes you want to try out a piece of a code without having to create a file for it first. For those occasions, it's a good idea to use a built-in program called a REPL, which lets you type shorter statements and have those statements evaluated.\n",
    "\n",
    "# The Python REPL\n",
    "\n",
    "Python supports an interactive console experience, which allows you to type in commands and see the results immediately. This experience is sometimes referred to as a \"Read-Eval-Print-Loop\", or REPL.\n",
    "\n",
    "To use the REPL, type python in your console. You'll get a prompt similar to the below output, which then waits for you to input commands:\n",
    "\n",
    "```sh\n",
    "Python 3.8.18 (default, Aug 25 2023, 13:20:30)\n",
    "[GCC 11.4.0] on linux\n",
    "Type \"help\", \"copyright\", \"credits\" or \"license\" for more information.\n",
    ">>> \n",
    "```\n",
    "\n",
    "# What can it do?\n"
   ]
  },
  {
   "cell_type": "code",
   "execution_count": 1,
   "metadata": {},
   "outputs": [
    {
     "data": {
      "text/plain": [
       "2"
      ]
     },
     "execution_count": 1,
     "metadata": {},
     "output_type": "execute_result"
    }
   ],
   "source": [
    "# Run and evaluate statements. You can have the REPL evaluate a statement like so:\n",
    "1 + 1"
   ]
  },
  {
   "cell_type": "code",
   "execution_count": 2,
   "metadata": {},
   "outputs": [
    {
     "data": {
      "text/plain": [
       "3.14"
      ]
     },
     "execution_count": 2,
     "metadata": {},
     "output_type": "execute_result"
    }
   ],
   "source": [
    "# Declare variables and functions. You can also create variables and functions, and REPL will remember that they exist, should you try to use them later:\n",
    "PI = 3.14\n",
    "PI"
   ]
  },
  {
   "cell_type": "markdown",
   "metadata": {},
   "source": [
    "# Using help\n",
    "\n",
    "The REPL has a built-in help function you can use to look up keywords and functions. The generalized syntax for this function is:\n",
    "\n",
    "```py\n",
    "help([object])\n",
    "```\n",
    "\n",
    "Where [object] is a specific function or keyword you want help on.\n",
    "\n",
    "# Interactive help console\n",
    "\n",
    "If you don't pass an argument to the help function, Python will start an interactive help.\n",
    "\n",
    "You enter the interactive help console by typing `help()`. This command will list some basic instructions on how to use the help system.\n",
    "\n",
    "From here, you can just type in the element you're interested in."
   ]
  },
  {
   "cell_type": "markdown",
   "metadata": {},
   "source": [
    "# Variables and basic data types in Python\n",
    "\n",
    "Variables are one of the fundamental building blocks of programs written in Python. Variables hold data in memory. They have names, and they can be referenced by those names. Variables also have types, which specify what type of data they can store (such as string and integer), and they can be used in expressions that use operators (such as + and -) to manipulate their values."
   ]
  },
  {
   "cell_type": "code",
   "execution_count": 3,
   "metadata": {},
   "outputs": [],
   "source": [
    "# Variables\n",
    "\n",
    "x = 1         # assign variable x the value 1\n",
    "y = x + 5     # assign variable y the value of x plus 5\n",
    "z = y         # assign variable z the value of y\n"
   ]
  },
  {
   "cell_type": "code",
   "execution_count": 4,
   "metadata": {},
   "outputs": [
    {
     "name": "stdout",
     "output_type": "stream",
     "text": [
      "<class 'int'>\n",
      "<class 'float'>\n"
     ]
    }
   ],
   "source": [
    "# Working with numbers\n",
    "\n",
    "x = 1       # integer\n",
    "print(type(x)) # outputs: <class 'int'>\n",
    "\n",
    "x = 1.0     # decimal (floating point)\n",
    "print(type(x)) # outputs: <class 'float'>"
   ]
  },
  {
   "cell_type": "code",
   "execution_count": 5,
   "metadata": {},
   "outputs": [
    {
     "name": "stdout",
     "output_type": "stream",
     "text": [
      "<class 'bool'>\n"
     ]
    }
   ],
   "source": [
    "# Working with booleans\n",
    "\n",
    "x = True\n",
    "print(type(x)) # outputs: <class 'bool'>"
   ]
  },
  {
   "cell_type": "code",
   "execution_count": 6,
   "metadata": {},
   "outputs": [
    {
     "name": "stdout",
     "output_type": "stream",
     "text": [
      "This is a string\n",
      "<class 'str'>\n",
      "Hello World!\n"
     ]
    }
   ],
   "source": [
    "# Working with strings\n",
    "\n",
    "x = 'This is a string'\n",
    "print(x) # outputs: This is a string\n",
    "print(type(x)) # outputs: <class 'str'>\n",
    "y = \"This is also a string\"\n",
    "\n",
    "# You can add strings to other strings — an operation known as \"concatenation\" — with the same + operator that adds two numbers:\n",
    "\n",
    "x = 'Hello' + ' ' + 'World!'\n",
    "print(x) # outputs: Hello World!"
   ]
  },
  {
   "cell_type": "code",
   "execution_count": 7,
   "metadata": {},
   "outputs": [
    {
     "name": "stdout",
     "output_type": "stream",
     "text": [
      "Hello World!\n"
     ]
    }
   ],
   "source": [
    "# Print to the console\n",
    "\n",
    "print('Hello World!')"
   ]
  },
  {
   "cell_type": "code",
   "execution_count": 8,
   "metadata": {},
   "outputs": [
    {
     "name": "stdout",
     "output_type": "stream",
     "text": [
      "Hello World!\n"
     ]
    },
    {
     "data": {
      "text/plain": [
       "3.14"
      ]
     },
     "execution_count": 8,
     "metadata": {},
     "output_type": "execute_result"
    }
   ],
   "source": [
    "# Exercise - Output\n",
    "\n",
    "# type python to start the Python interpreter in the interactive mode\n",
    "\n",
    "print('Hello World!')\n",
    "\n",
    "\n",
    "# Declare and output variables\n",
    "PI = 3.14\n",
    "PI"
   ]
  },
  {
   "cell_type": "markdown",
   "metadata": {},
   "source": [
    "# Reading keyboard input\n",
    "\n",
    "# use `input()`\n",
    "\n",
    "```py\n",
    "name = input('Enter your name:')\n",
    "print(name)\n",
    "```\n",
    "\n",
    "# Reading numbers as input\n",
    "\n",
    "```py\n",
    "x = int(input('Enter a number: '))\n",
    "print(type(x))\n",
    "```\n",
    "\n",
    "# Converting numbers to strings\n",
    "\n",
    "```py\n",
    "x = 5\n",
    "print('The number is ' + str(x))\n",
    "```"
   ]
  },
  {
   "cell_type": "markdown",
   "metadata": {},
   "source": [
    "# Exercise - Build a calculator\n",
    "\n",
    "Start the REPL by typing `python` in the Cloud Shell console:\n",
    "\n",
    "Copy and paste the following code into the REPL:\n",
    "\n",
    "```py\n",
    "first_number = int(input('Type the first number: ')) ;\\\n",
    "second_number = int(input('Type the second number: ')) ;\\\n",
    "print(\"The sum is: \", first_number + second_number)\n",
    "```\n"
   ]
  }
 ],
 "metadata": {
  "kernelspec": {
   "display_name": ".venv",
   "language": "python",
   "name": "python3"
  },
  "language_info": {
   "codemirror_mode": {
    "name": "ipython",
    "version": 3
   },
   "file_extension": ".py",
   "mimetype": "text/x-python",
   "name": "python",
   "nbconvert_exporter": "python",
   "pygments_lexer": "ipython3",
   "version": "3.8.18"
  }
 },
 "nbformat": 4,
 "nbformat_minor": 2
}
