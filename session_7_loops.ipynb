{
 "cells": [
  {
   "cell_type": "markdown",
   "metadata": {},
   "source": [
    "# Use 'while' and 'for' loops in Python\n",
    "\n",
    "## What are you learning?\n",
    "After you've completed this module, you can:\n",
    "\n",
    "- Identify when to use while and for loops.\n",
    "- Run a task multiple times by using while loops.\n",
    "- Loop over list data by using for loops.\n",
    "\n",
    "\n",
    "## What is the main objective?\n",
    "In this module, learn how to apply flow control to your app to repeat statements and work with list structures."
   ]
  },
  {
   "cell_type": "markdown",
   "metadata": {},
   "source": [
    "# `while` loop\n",
    "\n",
    "> When you write code, one common challenge is to have it perform a task an unknown number of times\n",
    "> In this unit, you want to allow a user to enter a list of planet names. Unfortunately, you don't know how many names the user enters. To support looping an unknown number of times, you can use a while loop.\n",
    "\n",
    "## A while loop has three important parts:\n",
    "\n",
    "- The keyword while, followed by a space.\n",
    "- The condition you test. If the condition is true, the code inside the while loop runs.\n",
    "- The code you want to run for each iteration, indented with nested whitespace. \n",
    "  \n",
    "For example:\n",
    "\n",
    "```py\n",
    "while <condition>:\n",
    "    # code here\n",
    "```"
   ]
  },
  {
   "cell_type": "code",
   "execution_count": 1,
   "metadata": {},
   "outputs": [
    {
     "name": "stdout",
     "output_type": "stream",
     "text": [
      "['a word', 'word b']\n"
     ]
    }
   ],
   "source": [
    "# create code to prompt users to enter values, and then allow them to enter done when they've finished entering the values\n",
    "\n",
    "\n",
    "# Create the variable for user input\n",
    "user_input = ''\n",
    "# Create the list to store the values\n",
    "inputs = []\n",
    "\n",
    "# The while loop\n",
    "while user_input.lower() != 'done':\n",
    "    # Check if there's a value in user_input\n",
    "    if user_input:\n",
    "        # Store the value in the list\n",
    "        inputs.append(user_input)\n",
    "    # Prompt for a new value\n",
    "    user_input = input('Enter a new value, or done when done')\n",
    "\n",
    "print(inputs)"
   ]
  },
  {
   "cell_type": "markdown",
   "metadata": {},
   "source": [
    "# Exercise - Create a 'while' loop\n",
    "\n",
    "- creating an application that prompts a user to enter a list of planets\n",
    "- displays the list"
   ]
  },
  {
   "cell_type": "code",
   "execution_count": 2,
   "metadata": {},
   "outputs": [
    {
     "name": "stdout",
     "output_type": "stream",
     "text": [
      "['earth', 'mars']\n"
     ]
    }
   ],
   "source": [
    "# Create the variable for user input\n",
    "new_planet = ''\n",
    "# Create the list to store the values\n",
    "planets = []\n",
    "\n",
    "while new_planet.lower() != 'done':\n",
    "  if new_planet:\n",
    "    planets.append(new_planet)\n",
    "  new_planet = input('Enter a new planet, or done if done')\n",
    "\n",
    "print(planets)"
   ]
  },
  {
   "cell_type": "markdown",
   "metadata": {},
   "source": [
    "# `for` loops\n",
    "\n",
    "The for loop is a statement with five important parts:\n",
    "\n",
    "- The word for, followed by a space.\n",
    "- The variable name you want to create for each value in the sequence (number).\n",
    "- The word in, surrounded by spaces.\n",
    "- The name of the list (countdown, in the preceding example), or iterable that you want to loop over, followed by a colon (:).\n",
    "- The code you want to run for each item in the iterable, separated by nested whitespace.\n",
    "\n",
    "```py\n",
    "for number in [1,2,3]:\n",
    "  # your statements\n",
    "  print(number)\n",
    "```"
   ]
  },
  {
   "cell_type": "code",
   "execution_count": 6,
   "metadata": {},
   "outputs": [
    {
     "name": "stdout",
     "output_type": "stream",
     "text": [
      "4\n",
      "3\n",
      "2\n",
      "1\n",
      "0\n",
      "Blast off!! 🚀\n"
     ]
    }
   ],
   "source": [
    "from time import sleep\n",
    "\n",
    "countdown = [4, 3, 2, 1, 0]\n",
    "\n",
    "for number in countdown:\n",
    "  print(number)\n",
    "  sleep(1)  # Wait 1 second\n",
    "print(\"Blast off!! 🚀\")"
   ]
  },
  {
   "cell_type": "markdown",
   "metadata": {},
   "source": [
    "# Exercise - Loop over a list\n",
    "\n",
    "- codes from the prior exercise: reading user's inputs to get a list of planets\n",
    "- display the planets one by one with `for` loop"
   ]
  },
  {
   "cell_type": "code",
   "execution_count": 8,
   "metadata": {},
   "outputs": [
    {
     "name": "stdout",
     "output_type": "stream",
     "text": [
      "['earth', 'mars']\n",
      "earth\n",
      "mars\n"
     ]
    }
   ],
   "source": [
    "new_planet = ''\n",
    "planets = []\n",
    "\n",
    "while new_planet.lower() != 'done':\n",
    "  if new_planet:\n",
    "    planets.append(new_planet)\n",
    "  new_planet = input('Enter a new planet or done if done')\n",
    "\n",
    "# print(planets)\n",
    "\n",
    "for planet in planets:\n",
    "  print(planet)\n",
    "\n",
    "# while len(planets) > 0:\n",
    "#   print(planets.pop())\n",
    "\n",
    "# counter = 0\n",
    "# while counter < len(planets):\n",
    "#   print(planets[counter])\n",
    "#   counter += 1\n"
   ]
  }
 ],
 "metadata": {
  "kernelspec": {
   "display_name": ".venv",
   "language": "python",
   "name": "python3"
  },
  "language_info": {
   "codemirror_mode": {
    "name": "ipython",
    "version": 3
   },
   "file_extension": ".py",
   "mimetype": "text/x-python",
   "name": "python",
   "nbconvert_exporter": "python",
   "pygments_lexer": "ipython3",
   "version": "3.8.18"
  }
 },
 "nbformat": 4,
 "nbformat_minor": 2
}
